{
 "cells": [
  {
   "cell_type": "markdown",
   "metadata": {},
   "source": [
    "\n",
    "\n",
    "# Analyse setiment twitter \\newline avec pyspark et mlib \n",
    "\n"
   ]
  },
  {
   "cell_type": "code",
   "execution_count": 1,
   "metadata": {},
   "outputs": [
    {
     "data": {
      "text/html": [
       "\n",
       "        <div>\n",
       "            <p><b>SparkContext</b></p>\n",
       "\n",
       "            <p><a href=\"http://master-Virtual-Machine.mshome.net:4040\">Spark UI</a></p>\n",
       "\n",
       "            <dl>\n",
       "              <dt>Version</dt>\n",
       "                <dd><code>v2.4.4</code></dd>\n",
       "              <dt>Master</dt>\n",
       "                <dd><code>local[*]</code></dd>\n",
       "              <dt>AppName</dt>\n",
       "                <dd><code>PySparkShell</code></dd>\n",
       "            </dl>\n",
       "        </div>\n",
       "        "
      ],
      "text/plain": [
       "<SparkContext master=local[*] appName=PySparkShell>"
      ]
     },
     "execution_count": 1,
     "metadata": {},
     "output_type": "execute_result"
    }
   ],
   "source": [
    "sc\n",
    "\n"
   ]
  },
  {
   "cell_type": "code",
   "execution_count": 2,
   "metadata": {},
   "outputs": [
    {
     "data": {
      "text/html": [
       "\n",
       "            <div>\n",
       "                <p><b>SparkSession - hive</b></p>\n",
       "                \n",
       "        <div>\n",
       "            <p><b>SparkContext</b></p>\n",
       "\n",
       "            <p><a href=\"http://master-Virtual-Machine.mshome.net:4040\">Spark UI</a></p>\n",
       "\n",
       "            <dl>\n",
       "              <dt>Version</dt>\n",
       "                <dd><code>v2.4.4</code></dd>\n",
       "              <dt>Master</dt>\n",
       "                <dd><code>local[*]</code></dd>\n",
       "              <dt>AppName</dt>\n",
       "                <dd><code>PySparkShell</code></dd>\n",
       "            </dl>\n",
       "        </div>\n",
       "        \n",
       "            </div>\n",
       "        "
      ],
      "text/plain": [
       "<pyspark.sql.session.SparkSession at 0x7fb3e451f908>"
      ]
     },
     "execution_count": 2,
     "metadata": {},
     "output_type": "execute_result"
    }
   ],
   "source": [
    "spark"
   ]
  },
  {
   "cell_type": "code",
   "execution_count": 3,
   "metadata": {},
   "outputs": [],
   "source": [
    "data=spark.read.json(\"hdfs://localhost:9000/sparkData/data.txt\")"
   ]
  },
  {
   "cell_type": "code",
   "execution_count": 4,
   "metadata": {},
   "outputs": [
    {
     "name": "stdout",
     "output_type": "stream",
     "text": [
      "+---------------+\n",
      "|          value|\n",
      "+---------------+\n",
      "|             a+|\n",
      "|         abound|\n",
      "|        abounds|\n",
      "|      abundance|\n",
      "|       abundant|\n",
      "|     accessable|\n",
      "|     accessible|\n",
      "|        acclaim|\n",
      "|      acclaimed|\n",
      "|    acclamation|\n",
      "|       accolade|\n",
      "|      accolades|\n",
      "|  accommodative|\n",
      "|   accomodative|\n",
      "|     accomplish|\n",
      "|   accomplished|\n",
      "| accomplishment|\n",
      "|accomplishments|\n",
      "|       accurate|\n",
      "|     accurately|\n",
      "+---------------+\n",
      "only showing top 20 rows\n",
      "\n"
     ]
    }
   ],
   "source": [
    "positiveW=spark.read.text(\"hdfs://localhost:9000/sparkData/positive-words.txt\")\n",
    "positiveW.show()\n"
   ]
  },
  {
   "cell_type": "code",
   "execution_count": 8,
   "metadata": {},
   "outputs": [],
   "source": [
    "negativeW=spark.read.text(\"hdfs://localhost:9000/sparkData/negative-words.txt\")\n",
    "#negativeW=sc.textFile(\"hdfs://localhost:9000/sparkData/negative-words.txt\")\n",
    "\n"
   ]
  },
  {
   "cell_type": "code",
   "execution_count": null,
   "metadata": {},
   "outputs": [],
   "source": []
  },
  {
   "cell_type": "code",
   "execution_count": 9,
   "metadata": {},
   "outputs": [],
   "source": [
    "sql=spark.sql(\"SELECT id,text FROM id_tweet\")\n",
    "#sql.show()"
   ]
  },
  {
   "cell_type": "code",
   "execution_count": 11,
   "metadata": {},
   "outputs": [
    {
     "data": {
      "text/plain": [
       "StructType(List(StructField(id,LongType,true),StructField(text,StringType,true),StructField(sentiment,IntegerType,false)))"
      ]
     },
     "execution_count": 11,
     "metadata": {},
     "output_type": "execute_result"
    }
   ],
   "source": [
    "from pyspark.sql.functions import lit\n",
    "from pyspark.sql.types import IntegerType\n",
    "\n",
    "s=sql.withColumn(\"sentiment\",lit(0)+5)\n",
    "s.describe()\n",
    "\n",
    "r=s.withColumn(\"TEST\",s[\"sentiment\"].cast(IntegerType())-51)\n",
    "#r.show()\n",
    "s.schema\n",
    "                \n",
    "    "
   ]
  },
  {
   "cell_type": "code",
   "execution_count": 23,
   "metadata": {},
   "outputs": [
    {
     "data": {
      "text/plain": [
       "[Row(id=330043883738234880, text=\"'Iron Man 3' Crushes Opening Day Records In China: \\nIron Man 3 has continued its record-breaking run at the... http://t.co/9CwF31E8Ez\", sentiment=5),\n",
       " Row(id=330043886577799169, text='Iron Man 3 tonight! Woo :)', sentiment=5),\n",
       " Row(id=330043887055937536, text='Preciso ver Iron Man 3 todos comentando e eu boiando kk', sentiment=5),\n",
       " Row(id=330043888788197376, text=\"'Iron Man 3' Crushes Opening Day Records In China: \\nIron Man 3 has continued its record-breaking run at the... http://t.co/sAX3MsJjlE\", sentiment=5),\n",
       " Row(id=330043889589288960, text='Iron man 3 was awesome =)', sentiment=5),\n",
       " Row(id=330043890440749057, text='RT @HannahMenzies: Featuring @mattfraction on The Beat today from Iron Man 50th panel!\\nhttp://t.co/qHNJMKjNl9', sentiment=5),\n",
       " Row(id=330043896786726913, text='RT @puthatasstowork: ce soir, go to look Iron Man 3! :D', sentiment=5),\n",
       " Row(id=330043897516531714, text='Iron man 3 with the homies! pfernando805 sglende lzepeda75 http://t.co/kD09Idp0Iw', sentiment=5),\n",
       " Row(id=330043897847877632, text=\"'Iron Man 3' Crushes Opening Day Records In China: \\nIron Man 3 has continued its record-breaking run at the... http://t.co/Ss6SyvX50m\", sentiment=5),\n",
       " Row(id=330043899097784320, text='Al final de Iron Man 3, Tony Stark despierta en un hospital sin piernas y se da cuenta de que nunca fue millonario ni superhéroe.', sentiment=5),\n",
       " Row(id=330043900410601472, text=\"'Iron Man 3' Crushes Opening Day Records In China: \\nIron Man 3 has continued its record-breaking run at the... http://t.co/jVjgcTRcu9\", sentiment=5),\n",
       " Row(id=330043901970874370, text='I realllllly want to go see iron man 3 tonight!!!!! But me aguanto for tmrw :(. Lol', sentiment=5),\n",
       " Row(id=330043902872657922, text=\"'Iron Man 3' Crushes Opening Day Records In China: \\nIron Man 3 has continued its record-breaking run at the... http://t.co/36Vtp9j7Rv\", sentiment=5),\n",
       " Row(id=330043907192811520, text=\"'Iron Man 3' Crushes Opening Day Records In China: \\nIron Man 3 has continued its record-breaking run at the... http://t.co/7c157od22a\", sentiment=5),\n",
       " Row(id=330043907306053632, text='@mabtorr seccion de espectaculos de La nacion, pero este articulo salio el jueves pasado! Es sobre Iron Man 3, pero a un costadito..', sentiment=5),\n",
       " Row(id=330043907540926465, text='Can everyone just take a second to recognize and appreciate how fucking ecstatic I am to see Iron Man 3 tonight 😬😬🙏', sentiment=5),\n",
       " Row(id=330043906072924160, text=\"Not cool, Amazon's Recommended Items. I thought my looking up that Gwyneth Paltrow cookbook was between you and me. Stop being such a narc.\", sentiment=5),\n",
       " Row(id=330043909193494528, text=\"'Iron Man 3' Crushes Opening Day Records In China: \\nIron Man 3 has continued its record-breaking run at the... http://t.co/Xz3en7jz9s\", sentiment=5),\n",
       " Row(id=330043911726850049, text=\"'Iron Man 3' Crushes Opening Day Records In China http://t.co/nXmcHDAUto\", sentiment=5),\n",
       " Row(id=330043911940763648, text='Iron Man 3 tonight!', sentiment=5),\n",
       " Row(id=330043911940751360, text='RT @chaandbeti: IRON MAN 3 IS THE BEST EVER. IT IS BETTER THAN PREVIOUS IRON MAN MOVIES AND IT IS BETTER THAN AVENGERS. GO WATCH IT.', sentiment=5),\n",
       " Row(id=330043912297250816, text=\"'Iron Man 3' Crushes Opening Day Records In China: \\nIron Man 3 has continued its record-breaking run at the... http://t.co/plV7GjytNl\", sentiment=5),\n",
       " Row(id=330043915271028737, text=\"'Iron Man 3' Crushes Opening Day Records In China: \\nIron Man 3 has continued its record-breaking run at the... http://t.co/LeX7EODMgV\", sentiment=5),\n",
       " Row(id=330043916357345280, text='Must see Iron Man 3 tonight', sentiment=5),\n",
       " Row(id=330043916923580416, text='Paltrow aconseja transformar la ira en sexo oral: La actriz Gwyneth Paltrow\\xa0le dijo a la conductora Chelsea Ha... http://t.co/slQc8o2KKm', sentiment=5),\n",
       " Row(id=330043916999065600, text='Iron man 3!', sentiment=5),\n",
       " Row(id=330043917686947840, text=\"'Iron Man 3' Crushes Opening Day Records In China: \\nIron Man 3 has continued its record-breaking run at the... http://t.co/3qo5RtBM9q\", sentiment=5),\n",
       " Row(id=330043919977046017, text=\"'Iron Man 3' Crushes Opening Day Records In China: \\nIron Man 3 has continued its record-breaking run at the... http://t.co/XFL4MU1mja\", sentiment=5),\n",
       " Row(id=330043921570873344, text='Primera imagen de Ben Kingsley en El Juego de Ender: Llega la primera imagen oficial del actor Ben Kingsley en... http://t.co/UrpTCbUvex', sentiment=5),\n",
       " Row(id=330043922577518592, text='I need a haircut! Wearing a hat until then. Iron Man 3 tonight. http://t.co/Hw90T34zqS', sentiment=5),\n",
       " Row(id=330043922241953792, text='\"@ViaEmilee: I want to see iron man 3 😭😭\"', sentiment=5),\n",
       " Row(id=330043924636901376, text=\"'Iron Man 3' Crushes Opening Day Records In China: \\nIron Man 3 has continued its record-breaking run at the... http://t.co/dpKkGN0LPx\", sentiment=5),\n",
       " Row(id=330043924896968707, text='http://t.co/xcub4LpwBp #AntMan info! @edgarwright is an awesome director and will bring some fast paced brilliance to it guaranteed!', sentiment=5),\n",
       " Row(id=330043925844865024, text='Primera imagen de Ben Kingsley en El Juego de Ender: Llega la primera imagen oficial del actor Ben Kingsley en... http://t.co/AqCZxiOSPq', sentiment=5),\n",
       " Row(id=330043926478213120, text='omg gwenyth paltrow dies in the new iron man 3 omg', sentiment=5),\n",
       " Row(id=330043927195430912, text='RT @papaphresh__: Tickets for Iron Man 3 at midnight #LetsGo', sentiment=5),\n",
       " Row(id=330043927170273280, text=\"'Iron Man 3' Crushes Opening Day Records In China: \\nIron Man 3 has continued its record-breaking run at the... http://t.co/ShBEsoZJvM\", sentiment=5),\n",
       " Row(id=330043927061229568, text='Tony stark http://t.co/xu9AJbIN1M', sentiment=5),\n",
       " Row(id=330043928894119936, text=\"'Iron Man 3' Crushes Opening Day Records In China: \\nIron Man 3 has continued its record-bre... http://t.co/nzUDxrzkef #TEAMFOLLOWBACK\", sentiment=5),\n",
       " Row(id=330043930936754176, text='RT @EmmyCic: I hope in the middle of the iron man movie it just turns into a daft punk music video w/ tony stark rapping', sentiment=5),\n",
       " Row(id=330043931121311744, text=\"'Iron Man 3' Crushes Opening Day Records In China: \\nIron Man 3 has continued its record-breaking run at the... http://t.co/C5n96prx3Q\", sentiment=5),\n",
       " Row(id=330043934627741696, text='Just got iron man 3 tix for tonight! Dutch approves http://t.co/pUjolA1mpT', sentiment=5),\n",
       " Row(id=330043935672135680, text='Primera imagen de Ben Kingsley en El Juego de Ender: Llega la primera imagen oficial del actor Ben Kingsley en... http://t.co/1u44zT666p', sentiment=5),\n",
       " Row(id=330043936087347200, text='RT @LedesmaEve: Estuve ignorando a JuanMa toda la semana para que el pelotudo del asiento de atrás me termine contando el final de Iron Man…', sentiment=5),\n",
       " Row(id=330043936083173376, text='I am madly in love with Robert Downey Jr.', sentiment=5),\n",
       " Row(id=330043936137703424, text=\"Who's planning to see Iron Man 3 this weekend? #IronMan3 #Waxahachie #RedOak #Midlothian #Ennis\", sentiment=5),\n",
       " Row(id=330043941468655616, text=\"Iron man 3 wasn't that good \\nWas a little dissapointed with the movie\\nDint expect that kinda ending\\nAnd didn't understand the movie much\", sentiment=5),\n",
       " Row(id=330043944727613440, text='Momento de desesperación en el que quiero conocer a Robert Downey Jr.  o no me muero !!!', sentiment=5),\n",
       " Row(id=330043946879287296, text='RT @callodehacha: ¿Ya vieron Iron Man 3? ME IMPORTA MUCHÍSIMO SU PUTA OPINIÓN.', sentiment=5),\n",
       " Row(id=330043950423486464, text='Iron Man 3 Crushes Openin Day Records In China http:/2013/05/02/iron-man-3-crushes-opening-day-records-in-china/?tb #ChicagoTribune #china', sentiment=5),\n",
       " Row(id=330043951631462400, text='IRON MAN 3 On Sale Info! http://t.co/z499FcQpV3', sentiment=5),\n",
       " Row(id=330043961651625984, text='RT @ASantifive: Im trying to see that iron man 3 in 3D this weekend!', sentiment=5),\n",
       " Row(id=330043963597803520, text='Agenda for the night: Chilling with my friends, a bottle of wine, and iron man 3. And to top it off, no work for me tomorrow. #lifeisgood', sentiment=5),\n",
       " Row(id=330043965191618562, text='RT @Terracolombia: \"Iron Man 3 es tan buena como sus villanos\": Robert Downey  http://t.co/agSmpqHa6J @Movie_Cine', sentiment=5),\n",
       " Row(id=330043971659264000, text='iron man 3 tonight anyone?', sentiment=5),\n",
       " Row(id=330043973462794240, text='RT @jordisn: Si para defender el cine de autor hay que atacar a Iron Man 3, conmigo que no cuenten. En caso de pelea, me uno al bando de To…', sentiment=5),\n",
       " Row(id=330043974389727232, text='RT @RottenTomatoes: Iron Man 3 is #CertifiedFresh at 80%, with 139 reviews.  http://t.co/mOsEwyb0yW', sentiment=5),\n",
       " Row(id=330043977665478656, text='Thai Parody of Iron Man 3 Trailer Looks Highly Dangerous http://t.co/VlWsFtS9nM', sentiment=5),\n",
       " Row(id=330043978982490112, text='Eleehhhhhhh dah tengok ahhh Iron Man 3! Tengokkk sorang lagiiii :3', sentiment=5),\n",
       " Row(id=330043980299509763, text='Iron Man 3 IMAX 3D tonight. Its my first time 😁😁', sentiment=5),\n",
       " Row(id=330043981809479680, text='Viendo Iron Man 3 @Torressilvi !!!', sentiment=5),\n",
       " Row(id=330043982979674114, text=\"RT @JimmyPrinceton: Daily Beast reassures readers that it still has a talented team of columnists, including Obama's former speechwriter, J…\", sentiment=5),\n",
       " Row(id=330043983814348800, text=\"I should Tweet about Iron Man 3 and Ruin the movie like y'all Ruined Batman Dark Knight Rises for me\", sentiment=5),\n",
       " Row(id=330043984078581760, text='I need to see Iron Man 3!', sentiment=5),\n",
       " Row(id=330043984699334656, text='RT @A_Redwood: Need to see Iron Man 3', sentiment=5),\n",
       " Row(id=330043985315909632, text=\"The sights, smells, and sprays of 'Iron Man 3' in 4DX http://t.co/UjMtLrNc2r via @verge\", sentiment=5),\n",
       " Row(id=330043987828305920, text='Off to finally watch Iron Man 3! Woohoo', sentiment=5),\n",
       " Row(id=330043988402896898, text='I get to see Iron man 3 tomorrow woo', sentiment=5),\n",
       " Row(id=330043991640920064, text='Iron Man 3 was good. He and Batman are neck and neck in the \"which superhero Faz thinks is the best\" competition.', sentiment=5),\n",
       " Row(id=330043992127467520, text='“@1Dfor1nfinity: Tomorrow Iron Man 3 comes out ! I SCREAMIMG” OHEMGEEE!!! ME TOO! Hope i can see it😁😁', sentiment=5),\n",
       " Row(id=330043992815316992, text='Iron man 3 tonight! #letsgo', sentiment=5),\n",
       " Row(id=330043993540947968, text='I wanna see Iron Man 3', sentiment=5),\n",
       " Row(id=330043994069417986, text='RT @usweekly: Even they have bad days! Gwyneth Paltrow: Chris Martin and I have had \"terrible times\" in our marriage http://t.co/LqfsEc6Tyd', sentiment=5),\n",
       " Row(id=330043994899873792, text='@CamiiKusnier Robert Downey Jr. o el que esta en Elementary?', sentiment=5),\n",
       " Row(id=330043996032344065, text='RT“@akhilHafiz: IRON MAN 3 WAS THE BEST SUPERHERO MOVIE EVER!”', sentiment=5),\n",
       " Row(id=330043996581818369, text='Going to see Iron Man 3 with @mikebrennan94 tonight.', sentiment=5),\n",
       " Row(id=330044001682083840, text=\"Iron Man 3 tonight and it's going to take all my strength not to go groan when Gwyneth Paltrow is onscreen. #illnevermakeit\", sentiment=5),\n",
       " Row(id=330044002348986368, text='#nw Iron man 3 :D', sentiment=5),\n",
       " Row(id=330044002709692416, text=\"Box Office Report: 'Iron Man 3' Breaks Records in China With Estimated $21.5 Million Opening http://t.co/3Rz1mZev5B\", sentiment=5),\n",
       " Row(id=330044002684518400, text='Getting ready for iron man 3 #arcreactor\\n#ironman3 http://t.co/6nr4oXnfst', sentiment=5),\n",
       " Row(id=330044004387418112, text='\"@Cooperativa: [Video] Robert Downey Jr y su participación en \"Iron man 3\" http://t.co/5F3oA3o6xu\" ... Le amo!!! Es seco!!!', sentiment=5),\n",
       " Row(id=330044004693598208, text='“@Burrtalert: Iron man 3 premier tonight!! FUCK YEAHH ! 👨💥💵”', sentiment=5),\n",
       " Row(id=330044005586968576, text='These Iron Man comics I have with Mandarin better be leaping off the proverbial value scale once everyone sees Iron Man 3 &amp; knows who he is', sentiment=5),\n",
       " Row(id=330044007189204992, text='Watching Iron Man in preparation for Iron Man 3!', sentiment=5),\n",
       " Row(id=330044008975962112, text='@richardroeper is it worth paying extra money to see Iron Man 3 in 3D or can i see it in 2D', sentiment=5),\n",
       " Row(id=330044010213277696, text=\"iron man, iron man 2, and the avengers; this afternoon's marathon for this evening's iron man 3. i love you, tony stark. #callme\", sentiment=5),\n",
       " Row(id=330044011945533440, text='RT @Bro_mar12: Definitely need to go see Iron Man 3!', sentiment=5),\n",
       " Row(id=330044019042308097, text='Iron man 3 at midnight!! Heck yeah!!', sentiment=5),\n",
       " Row(id=330044019814055938, text=\"RT @Gabin_B: Tony Stark bête de mec se tape une rousse vas y il a rien pigé au sens d'la vie lui\", sentiment=5),\n",
       " Row(id=330044023345643522, text='need to get my tickets for Iron Man 3 tonight', sentiment=5),\n",
       " Row(id=330044026696912896, text='Movie Review: Iron Man 3 « CW Philly', sentiment=5),\n",
       " Row(id=330044027208613888, text='Mi madre ha ido a buscarme a valdecilla y me ha llevado a ver Iron Man 3 y yo aún sigo con medio alma dentro del cine.', sentiment=5),\n",
       " Row(id=330044028882132993, text='Looks like its going to be a great movie year. Iron Man 3, The Great Gatsby, Pacific Rim, Star Trek, Thor, Man of Steel, After Earth &amp; more', sentiment=5),\n",
       " Row(id=330044029364473856, text='Homem de ferro 3 o/ (at @UCICinemas for Iron Man 3 w/ 7 others) http://t.co/gdWsAoRG2d', sentiment=5),\n",
       " Row(id=330044029830062080, text='@acolherdoliam mas pera só coloquei o nome asdkashfdj eu quero icons da Gwyneth Paltrow :)', sentiment=5),\n",
       " Row(id=330044031562297345, text='So Iron Man 3 was super awesome!', sentiment=5),\n",
       " Row(id=330044033328107522, text='Now watching the Iron Man 3 trailers I laugh because...Marvel you were clever in that one', sentiment=5),\n",
       " Row(id=330044033659457536, text='Who wants to go to the Iron Man 3 premiere tonight #hmu', sentiment=5),\n",
       " Row(id=330044034301194240, text=\"'Iron Man 3' Crushes Opening Day Records In China http://t.co/EmflNSspCM\", sentiment=5),\n",
       " Row(id=330044034787721216, text='Ben Kingsley did spectacular job on Iron Man 3.', sentiment=5),\n",
       " Row(id=330044034737381377, text='\"You are a maniac.\"\\n\"No, I\\'m a visionary.\"\\n#NaMo\\n(From a scene in Iron Man 3)', sentiment=5),\n",
       " Row(id=330044035261661184, text='RT @MondoNews: IRON MAN 3 On Sale Info! http://t.co/z499FcQpV3', sentiment=5),\n",
       " Row(id=330044036423487488, text=\"Thinking about going to Iron Man 3 tomorrow afternoon, hopefully I don't pull the hole in the popcorn bucket on myself. Slap Hand #holdup\", sentiment=5),\n",
       " Row(id=330044039225282560, text=\"'Iron Man 3' Crushes Opening Day Records In China http://t.co/uWfmTqgI7y\", sentiment=5),\n",
       " Row(id=330044040156426240, text='Iron Man 3 tonight. Woot woot! #nerdatheart', sentiment=5),\n",
       " Row(id=330044041637015552, text='RT @ASantifive: Im trying to see that iron man 3 in 3D this weekend!', sentiment=5),\n",
       " Row(id=330044041288880129, text=\"'Iron Man 3' Crushes Opening Day Records In China http://t.co/qlWHRbyzih\", sentiment=5),\n",
       " Row(id=330044041649594368, text='Iron Man 3 - Box Office Edition Limited Print by BASK @1xRUN http://t.co/qq1rOo02eH', sentiment=5),\n",
       " Row(id=330044044271030273, text='RT @blairwyziggy: I am madly in love with Robert Downey Jr.', sentiment=5),\n",
       " Row(id=330044045873278976, text='movies I must watch! \\n\\nAfter Earth\\nWorld War Z\\nThe Great Gatsby \\nIron Man 3 \\nDespicable Me 2\\nMonsters Inc 2', sentiment=5),\n",
       " Row(id=330044045919387648, text='Iron Man 3 is coming out? Oh', sentiment=5),\n",
       " Row(id=330044046062006273, text='IRON MAN 3 TONIGHT LETS FUCKIN GO!!!!', sentiment=5),\n",
       " Row(id=330044046296879104, text='RT @TheAVClub: Iron Man 3 desperately aims to please, but falls short http://t.co/vsn0YtruOd', sentiment=5),\n",
       " Row(id=330044048322736129, text=\"'Iron Man 3' Crushes Opening Day Records In China http://t.co/2enPzHAaJd #news\", sentiment=5),\n",
       " Row(id=330044048448577536, text='If you need to get more pumped for Iron Man 3 ↝ Iron Man Trilogy Remix http://t.co/0ixDJrwuTQ', sentiment=5),\n",
       " Row(id=330044048536633344, text='Iron Man 3 tonight. Yessss.', sentiment=5),\n",
       " Row(id=330044051409756160, text='@johnnyoungg @fluffybwg @d_schabacker Iron man 3 😁', sentiment=5),\n",
       " Row(id=330044051816583168, text='Work needs to end, &amp; Iron Man 3 needs to hurry up.', sentiment=5),\n",
       " Row(id=330044051862728704, text='Prepping myself to see Iron Man 3 tonight.', sentiment=5),\n",
       " Row(id=330044053666295810, text='I wanna go watch Iron Man 3 today...', sentiment=5),\n",
       " Row(id=330044057885757441, text='Iron man 3 with ting', sentiment=5),\n",
       " Row(id=330044058812690432, text='just saw Iron Man 3.. i looove tony stark ♥', sentiment=5),\n",
       " Row(id=330044059374731264, text='Who wants to see Iron Man 3 with me?', sentiment=5),\n",
       " Row(id=330044060016463873, text=\"I unlocked the Marvel's Iron Man 3 Coming Soon sticker on #GetGlue! http://t.co/4dGBFWSIy1\", sentiment=5),\n",
       " Row(id=330044065712336896, text='Saw Iron Man 3, and now eating some Taco Bell. #GreatNight 👌', sentiment=5),\n",
       " Row(id=330044066144342018, text='BILLIONAIRES LIFE .. Metal and mettle: Billionaire industrialist and inventor Tony Stark takes ... http://t.co/j0HlRo4eOR ...Brightsteel', sentiment=5),\n",
       " Row(id=330044066286956544, text='BILLIONAIRES LIFE .. Metal and mettle: Billionaire industrialist and inventor Tony Stark takes ... http://t.co/mBrVSJItOm ...Brightsteel', sentiment=5),\n",
       " Row(id=330044066265985024, text=\"“@DollyFaze: I should Tweet about Iron Man 3 and Ruin the movie like y'all Ruined Batman Dark Knight Rises for me” you wouldn't..\", sentiment=5),\n",
       " Row(id=330044066454704128, text='Iron man 3 ticket. Acquired.', sentiment=5),\n",
       " Row(id=330044066597330944, text=\"Line from Iron Man 3 script: Tony Stark dons suit that I couldn't afford, etc. etc. Hollywood inside joke, etc. - Shane Black, genius.\", sentiment=5),\n",
       " Row(id=330044068795138049, text=\"'Iron Man 3' Crushes Opening Day Records In China http://t.co/o9QwvfUzYj #celebs #gossip\", sentiment=5),\n",
       " Row(id=330044069369741314, text='“@TheAVClub: Iron Man 3 desperately aims to please, but falls short http://t.co/soOph7cQM0”I refuse to accept this.', sentiment=5),\n",
       " Row(id=330044070837760000, text='RT @andyway22: Iron Man 3 tonight at midnight! No guns please', sentiment=5),\n",
       " Row(id=330044073702469635, text='Iron Man 3 #HellYeah', sentiment=5),\n",
       " Row(id=330044075900280832, text='RT @VedoTheSinger: I wanna go see Iron Man 3', sentiment=5),\n",
       " Row(id=330044074616844289, text='Acabo de participar en sorteo ¡Gana un iPad Mini con Iron Man 3, IGN y Gameloft!\\nhttp://t.co/L7tta88wG9', sentiment=5),\n",
       " Row(id=330044078983086080, text='@sammycigarroa Robert downey Jr. Rwanda, Romero, rinoceronte, rojo', sentiment=5),\n",
       " Row(id=330044078895030272, text='iron man 3 in theatres tomorrow  O_o', sentiment=5),\n",
       " Row(id=330044079700324353, text=\"Ayer vimos Iron Man, la neta me dormí cañón..ah pero eso si hacen buen uso de las TIC's ORACLE !! Bien por Tony Stark! jaja @rmelendez83 #fb\", sentiment=5),\n",
       " Row(id=330044082191736832, text='RT @handresreinoso: @IvanMarinSoyYo #BendicionesLaborales las de Tony Stark, construye armaduras de 7 millon de US y destruye 42 a la vez h…', sentiment=5),\n",
       " Row(id=330044084645416960, text='@thatssweet_ Ta passando Iron Man 3 em TL ctz que vai passar lá antes que aqui e eu vou ô recalcadinha do oceano!!!!', sentiment=5),\n",
       " Row(id=330044083378716672, text='Aku Tony Stark. Dia Pepper Potts. Cuba korg teka sape Ironman? @halfreeze http://t.co/xPKpthw1DT', sentiment=5),\n",
       " Row(id=330044086352498688, text='Robert Downey Jr. irreplaceable as Iron Man - Gwyneth Paltrow http://t.co/bzXVouLnB2', sentiment=5),\n",
       " Row(id=330044086759350274, text='I wanna watch iron man 3 tmr so bad!!! Who wants to come? :P', sentiment=5),\n",
       " Row(id=330044087812100096, text='Anyone for iron man 3?', sentiment=5),\n",
       " Row(id=330044091834441728, text='Only two more short days of work before weekend of joy. Might go to see Iron Man 3 again tomorrow afternoon...', sentiment=5),\n",
       " Row(id=330044095475105792, text='with Lily :-) (at @VueCinemaS for Iron Man 3 3D) http://t.co/lI1ckh3Tjj', sentiment=5),\n",
       " Row(id=330044097505157120, text='@BarbaraSilva_Of  É AMANHÃ!! DÊ RETWEET E CONCORRA UM POSTER DO IRON MAN 3 PARTICIPANDO DA PROMOÇÃO NO LINK ABAIXO http://t.co/GAJIUD5iWg', sentiment=5),\n",
       " Row(id=330044099501645825, text='Gwyneth Paltrow confiesa que ciertas experiencias le han ayudado a ver mejor la vida. ¡Entérate! http://t.co/RiDN7Z9QcC', sentiment=5),\n",
       " Row(id=330044100537618434, text='by a footlong for a chance to win a ticket to see iron man 3... lol wtf.', sentiment=5),\n",
       " Row(id=330044100663463937, text='лентаа!! Кто не ходил смотреть ЖЧ3 в кинотеатры вот вам ссылочка!!! Смотрите на здоровье:3 http://t.co/e3GoObFSQk', sentiment=5),\n",
       " Row(id=330044100671836160, text='Gran día con @_MissMinnun_ en el cine (iron man 3 la recomiendo xD)', sentiment=5),\n",
       " Row(id=330044101967892480, text=\"'Iron Man 3' Crushes Opening Day Records In China http://t.co/IGKPpaCKpW\", sentiment=5),\n",
       " Row(id=330044102869663744, text='Iron man 3 tomorrow is the move', sentiment=5),\n",
       " Row(id=330044102848700418, text='If Iron Man is sold out tomorrow then I am going to punch Tony Stark myself', sentiment=5),\n",
       " Row(id=330044108179648512, text='RT @eonline: Robert Downey Jr. Surprises Kids at Iron Man 3 Screening, Gives Motivational Speech—Watch! http://t.co/tbCvRphdrn', sentiment=5),\n",
       " Row(id=330044110301962240, text=\"@TheScreenTeam me not, cuz i'm here in Guarda, Portugal, and i can see Iron Man 3 just when i finished the my classes.\", sentiment=5),\n",
       " Row(id=330044110956285952, text='Iron Man 3 tomorrow wasssuhhhhh', sentiment=5),\n",
       " Row(id=330044114240409600, text='i wanna watch iron man 3 tonight!', sentiment=5),\n",
       " Row(id=330044114575970305, text='Iron Man 3 in the morn!', sentiment=5),\n",
       " Row(id=330044116631183360, text=\"Ahora Work, por la Noche Iron Man 3 :')\", sentiment=5),\n",
       " Row(id=330044115825864704, text='iD the Iron Man 3 poster and you might get a DVD prize pack on your doorstep.\\n*Hint: This one works http://t.co/qOfXh52B1A', sentiment=5),\n",
       " Row(id=330044120187932673, text='RT @MemoRobot: O sea que tengo que tengo que fletarme Iron Man 1 y 2 pa poder ver la 3?\\n Saaale!', sentiment=5),\n",
       " Row(id=330044120502517762, text='RT @the_ironsheik: What movie better Iron Man 3 or Go Fuck Yourself 2?', sentiment=5),\n",
       " Row(id=330044122188627968, text=\"@Marr_Ja @farkao @MW_A dîtes, vous avez vu Iron Man 3, aman qu'est ce que s'est passé dans la séquence après générique?\", sentiment=5),\n",
       " Row(id=330044125703446528, text='RT @VedoTheSinger: I wanna go see Iron Man 3', sentiment=5),\n",
       " Row(id=330044127620251649, text='Gwyneth Paltrow à était élue plus belle femme du monde ! #Normal', sentiment=5),\n",
       " Row(id=330044129251840000, text='So hyped for Iron Man 3😁', sentiment=5),\n",
       " Row(id=330044130333966336, text='Al aire en @HITSfm901 y hitsfm.mx regalando boletos para ver Iron Man 3 y para el concierto de @ReikMx en McAllen #Pormispolotas', sentiment=5),\n",
       " Row(id=330044130048749568, text='Iron Man 3 tonight with @TheKerrLife , feel free to join us', sentiment=5),\n",
       " Row(id=330044130635939840, text='RT @the_ironsheik: What movie better Iron Man 3 or Go Fuck Yourself 2?', sentiment=5),\n",
       " Row(id=330044131529334787, text='Iron Man 3 maybe...', sentiment=5),\n",
       " Row(id=330044132733091841, text='\\'Iron Man 3\\' crushes overseas, but can it topple \\'Avengers\\'?: Is \"Iron Man 3\" as steely as \"The Avengers?\" The... http://t.co/XG22QCK6AK', sentiment=5),\n",
       " Row(id=330044135773970432, text='@joxceline jajajajajaja si, Tony Stark', sentiment=5),\n",
       " Row(id=330044136105340928, text='E we, quiero ver Iron Man 3.', sentiment=5),\n",
       " Row(id=330044136403124224, text='Iron Man 3 tonight at 12 !', sentiment=5),\n",
       " Row(id=330044136654778368, text='What am I doing Saturday? \\nShit ima go watch Iron Man 3 👍', sentiment=5),\n",
       " Row(id=330044137476849665, text='@MLG_JuniuR @iFM_Woozy @iFM_Dizzy Erll junior maybe if you werent racist against league play! &lt;3 its iron man 3 come on', sentiment=5),\n",
       " Row(id=330044137879511040, text='Iron man 3 vista, me ha encantadoooooo!!!!!! @Sorly97', sentiment=5),\n",
       " Row(id=330044137875308545, text='@SMaxyB hmmm same here.... hey did u see iron man 3??? Its awesome', sentiment=5),\n",
       " Row(id=330044144087080961, text='RT @pattonoswalt: Also, Hollywood?  And, uh @Marvel?  LET SHANE BLACK WRITE &amp; DIRECT THE LUKE CAGE/IRON FIST MOVIE.', sentiment=5),\n",
       " Row(id=330044145387319297, text=\"RT @Cinefiloz: RESEÑA: 'Iron Man 3', entretenimiento noventoso en la mejor película de Marvel http://t.co/inXRJOJNGc\", sentiment=5),\n",
       " Row(id=330044147241193474, text='The #DowntonAbbey &amp; \"Iron Man 3\" connection http://t.co/FBXmFxdAPL', sentiment=5),\n",
       " Row(id=330044148486922240, text='In ready to see iron man 3 friday:-)', sentiment=5),\n",
       " Row(id=330044150294646784, text='Iron Man 3 tough as hell I still gotta see it in theaters', sentiment=5),\n",
       " Row(id=330044151485849602, text=\"Well Iron Man 3 wasn't half bad. Literally riveting, in fact.\", sentiment=5),\n",
       " Row(id=330044151510994949, text='i wanna go see Iron Man 3 tonight!', sentiment=5),\n",
       " Row(id=330044153771737090, text='Iron Man 3 tomorrow! 😱', sentiment=5),\n",
       " Row(id=330044155898232832, text='RT @FranQueQue: Gran día con @_MissMinnun_ en el cine (iron man 3 la recomiendo xD)', sentiment=5),\n",
       " Row(id=330044157273980930, text='RT @Nolapane: I doubt any of you are die hard Iron Man comic fans, but if you are.. I advise you DO NOT WATCH Iron Man 3.. Lol.', sentiment=5),\n",
       " Row(id=330044158242848768, text='3 Things to Know About Iron Man 3: 1) The Suit, 2) The Suit, and 3) The Suit.', sentiment=5),\n",
       " Row(id=330044161086595073, text='Watch Iron Man 3 http://t.co/zLW0nXY49I', sentiment=5),\n",
       " Row(id=330044162319712256, text=\"@sjbarnes I won't, wouldn't want to miss Iron Man 3 would I? ;)\", sentiment=5),\n",
       " Row(id=330044163515101184, text='Iron Man 3 came out today . Wadduppp .', sentiment=5),\n",
       " Row(id=330044163703857154, text='Howard Stark Pai de Tony Stark  (Homem de ferro)  e eu XD http://t.co/8Hj3QW3OLW', sentiment=5),\n",
       " Row(id=330044164966330368, text='‘Iron Man 3’ tops http://t.co/syeaMiYfVs summer movie poll http://t.co/jIp5SnRysQ via @sharethis', sentiment=5),\n",
       " Row(id=330044165163466752, text='Iron man 3 tonight :)', sentiment=5),\n",
       " Row(id=330044165192830977, text='“@serenapatel_: Only me and @ThisIsShakira would rather watch Iron Man 3 and sit inside than enjoy the sun outside😂😩” so true!😂👌but worth it', sentiment=5),\n",
       " Row(id=330044166727925760, text=\"RT @NerdistNews: .@osteoferocious' @Marvel @Iron_Man 3 Review: For Tony Stark, the Third Time’s the Charm http://t.co/OoululF4g4 #IronMan3\", sentiment=5),\n",
       " Row(id=330044171215859712, text='for all you comic ppl out there,\\n\\nanyone watching iron man 3 tonight?', sentiment=5),\n",
       " Row(id=330044172880990208, text='Anthony is taking me and Geegee to go see iron man 3 tonight.', sentiment=5),\n",
       " Row(id=330044173522710531, text='Iron Man 3 is trending!!!!!! @ExtremeEnigmaJD @RosyRockstar', sentiment=5),\n",
       " Row(id=330044179822546946, text='tomorrow i go see Iron Man 3! :)', sentiment=5),\n",
       " Row(id=330044179931607040, text='@suhzzzz Haha Ding Ding. Did you watch iron Man 3?', sentiment=5),\n",
       " Row(id=330044181844217856, text='Iron Man 3 proves a hit in China: Iron Man has outgunned the entire Avengers crew in China. http://t.co/OYXGp4fbFj', sentiment=5),\n",
       " Row(id=330044182175551488, text='RT @IronMan3Movie: Can you feel the excitement Marvelites? Marvel’s Iron Man 3 comes out tomorrow. When will you suit up for Iron Man 3? ht…', sentiment=5),\n",
       " Row(id=330044184222396418, text='#iloveM0VIES Iron Man 3 proves a hit in China: Iron Man has outgunned the entire Avengers crew in China. http://t.co/ai3k6LtWyI', sentiment=5),\n",
       " Row(id=330044185694576640, text='Seriously, someone come be my friend and see iron man 3 with me tonight!', sentiment=5),\n",
       " Row(id=330044186197884928, text='RT @FalconRyan: Iron Man 3 tonight!&gt;&gt;&gt;&gt; http://t.co/im4Kumr03g', sentiment=5),\n",
       " Row(id=330044186155966464, text='@BrandonSteffan waaaah :33, jabsjsjsns ya viste iron man 3??', sentiment=5),\n",
       " Row(id=330044187112251394, text='RT @TopicalTodd: New In Theaters 5/3: Iron Man 3 And Everything Else http://t.co/oNalfLXGZ4 #IronMan #IronMan3 #movies #TheIceman #TopicalT…', sentiment=5),\n",
       " Row(id=330044189809197057, text='Iron Man 3 was crazy!', sentiment=5),\n",
       " Row(id=330044189918236672, text='Yo soy tony stark JAJAJAJAJAJA', sentiment=5),\n",
       " Row(id=330044191591788545, text='Really wanna watch iron man 3 :)', sentiment=5),\n",
       " Row(id=330044193248530433, text='Iron Man 3 at 9:15 tonight. SO PUMPED.', sentiment=5),\n",
       " Row(id=330044197782577152, text='Noooooooooo!!! \"@musicenthusiast: A line is already forming for Iron Man 3. I assume these people are unemployed, virgins or worse...both.\"', sentiment=5),\n",
       " Row(id=330044197899993091, text='Мне понравилось видео \"Железный человек 3 (Iron Man 3) — Вызов Тони Старка\"', sentiment=5),\n",
       " Row(id=330044197979688960, text='RT @_Jaydubya: Just gonna make this clear, if anyone I know comes through my line for the iron man 3 premier, I will happily throw popcorn …', sentiment=5),\n",
       " Row(id=330044199695167488, text='He wants to go watch Iron man 3 y yo no quiellooooo!!!! 😒', sentiment=5),\n",
       " Row(id=330044204682182656, text='RT @GramCrackaa1102: Iron Man 3 tonight at 12 !', sentiment=5),\n",
       " Row(id=330044206485757952, text=\"'Iron Man 3' Breaks Records in China w/ Estimated $21.5 Million Opening [REPORT] http://t.co/h2bnoe0Dgf via: @THR cc: @LocoDistro\", sentiment=5),\n",
       " Row(id=330044207211368450, text='Anybody going to the iron man 3 premier at home?', sentiment=5),\n",
       " Row(id=330044208591273985, text=\"Taking CJ to see Iron Man 3 tomorrow. Y'all pray for me!\", sentiment=5),\n",
       " Row(id=330044213049839616, text=\"I'm disappointed by the limited number of 2D showings for Iron Man 3.\", sentiment=5),\n",
       " Row(id=330044213158879232, text='RT @AustinKeith_95: Iron Man 3 tomorrow!! 😇', sentiment=5),\n",
       " Row(id=330044218607284224, text='sapillos si no han visto iron man 3 jaja', sentiment=5),\n",
       " Row(id=330044219186106368, text='Iron man 3 tickets #im3 #ironman3 #movies http://t.co/OmBNnvoD5Y', sentiment=5),\n",
       " Row(id=330044225070723072, text='that sucks. my connect got me in tonight RT @RobertSallee Iron Man 3 tomorrow afternoon.', sentiment=5),\n",
       " Row(id=330044226488389632, text='@olivia_chillemi tell Kam that you and him are coming to see Iron Man 3 tonight with us. You tell him.', sentiment=5),\n",
       " Row(id=330044227914432512, text='Me declaró una fan de Robert Downey Jr. No sé como se llamaran sus fans, pero soy una.', sentiment=5),\n",
       " Row(id=330044228430336000, text=\"@JENNIZZLES I cannot wait to see Iron Man 3 and I'm quite excited to see you in it!!  Get your Stark on Jenny! #ironman3\", sentiment=5),\n",
       " Row(id=330044230997254144, text='El éxito en taquilla de Iron Man 3 viene a recordar que en la era de Internet se están extinguiendo las películas medianas', sentiment=5),\n",
       " Row(id=330044234759557121, text='Cannot wait to see Iron Man 3', sentiment=5),\n",
       " Row(id=330044236735062017, text='RT @GamerNewzDaily: GTA 4 – Iron Man 3 Mark XVII Heartbreaker Armor Mod Available Now for Grand Theft Auto 4. http://t.co/K8nFWUoqY8', sentiment=5),\n",
       " Row(id=330044238454738944, text='Iron Man 3!!!! Iron Man 3!!!!', sentiment=5),\n",
       " Row(id=330044243932487680, text=\"RT @potential_geh: 'Iron Man 3' Crushes Opening Day Records In China: \\nIron Man 3 has continued its record-breaking run at the... http://t.…\", sentiment=5),\n",
       " Row(id=330044245513752578, text='Does anyone else die laughing at the iron man 3 trailer? \"Youuulllll neverrrr see me comingggg\" ahahaa', sentiment=5),\n",
       " Row(id=330044247665410048, text='Iron man 3 !!! (@ VOX Cinemas w/ 3 others) http://t.co/reYE2YZPzP', sentiment=5),\n",
       " Row(id=330044249880027136, text='Iron Man 3 tonight better be a badass movie... Aha', sentiment=5),\n",
       " Row(id=330044252644065280, text=\"Dude... I'm more excited for Great Gatsby than for Iron Man 3... No homo\", sentiment=5),\n",
       " Row(id=330044257966632962, text=\"😂😂 RT @DollyFaze: I should Tweet about Iron Man 3 and Ruin the movie like y'all Ruined Batman Dark Knight Rises for me\", sentiment=5),\n",
       " Row(id=330044262454538240, text='kinda ready to see Iron Man 3. Someone wanna take me for my birthday? lol jkjk #ButForeal', sentiment=5),\n",
       " Row(id=330044262911729664, text=\"*Spoiler Alert* IronMan3: gwyneth paltrow's lifestyle blog causes spike in global terrorism, makes Tony drink even more\", sentiment=5),\n",
       " Row(id=330044266489475075, text=\"@SchmoesKnow I've avoided trailers and I won't see your review until after I see the movie but do I need to see iron man 3 in 3D?\", sentiment=5),\n",
       " Row(id=330044267265421312, text=\"'Iron Man 3' crushes overseas, but can it topple 'Avengers'?  http://t.co/HzdDzXB2gt\", sentiment=5),\n",
       " Row(id=330044268414631936, text='RT @Cinefiloz: RESEÑA: ‘Iron Man 3′, entretenimiento noventoso en la mejor película de Marvel http://t.co/oN6ZzA6TBz', sentiment=5),\n",
       " Row(id=330044269844897792, text='Bruce Wayne, Clark Kent, Peter Parker, Bruce Banner, Matt Murdock, Tony Stark....yo estoy salvando el mundo y tu no dejas de llamar....', sentiment=5),\n",
       " Row(id=330044270545354754, text='Anyone tryna see Iron Man 3 tonight?', sentiment=5),\n",
       " Row(id=330044272214691840, text='Anybody wanna go to iron man 3 with me tonight? #pleaseeeeee', sentiment=5),\n",
       " Row(id=330044273179385856, text='Iron man 3 (@ Uci Cinemas Marconi) http://t.co/Xp3sTgpWNV', sentiment=5),\n",
       " Row(id=330044273217130496, text='We have been cleared to leave! The power of Iron Man 3 tickets is not to be denied.', sentiment=5),\n",
       " Row(id=330044273204547584, text='@GwynethPaltrow You were SO great like always in Iron Man 3, omg :) &lt;3', sentiment=5),\n",
       " Row(id=330044286856986624, text='I really just want to go see Iron Man 3 tonight!!', sentiment=5),\n",
       " Row(id=330044291915341824, text='GONNA SEE IRON MAN 3 WITH MAIKO AND MJ TOMORROW TEE HEE @cheskcunt r u jelly', sentiment=5),\n",
       " Row(id=330044299477651456, text='RT @Cinefiloz: Iron Man 3 rompe record de The Avengers en su primer fin de semana internacional, recaudando $195 millones. La reseña http:/…', sentiment=5),\n",
       " Row(id=330044306708647937, text='Zoe Saldaña como Gamora.\\nBatista como Drax el destructor.\\n\\n@Marvel  tienes de donde para componer el daño hecho en Iron Man 3', sentiment=5),\n",
       " Row(id=330044306738012162, text='‘Iron Man 3’ tops http://t.co/MfuH56AHfE summer movie poll: The results are in, and “Iron Man 3” is the movie... http://t.co/EJ5b93baam', sentiment=5),\n",
       " Row(id=330044307228721153, text='RT @GramCrackaa1102: Iron Man 3 tonight at 12 !', sentiment=5),\n",
       " Row(id=330044308919029760, text='RT @King_Salami708: I want to see iron man 3!!!!!', sentiment=5),\n",
       " Row(id=330044309447512066, text='The awesomeness that is Robert Downey Jr. http://t.co/XP0NbCjLb8\\n (via @CNNi)', sentiment=5),\n",
       " Row(id=330044310013743106, text='RT @neontrees: RT @itunesmusic: Every super hero needs theme music. Listen how @Imaginedragons @neontrees and more take on Iron Man 3....', sentiment=5),\n",
       " Row(id=330044313549541376, text=\"Can't wait for Iron Man 3! Gonna watch it on Saturday!!!!\", sentiment=5),\n",
       " Row(id=330044313042034688, text=\"@_amanakaa I'm going with my mom to see iron man 3:(\", sentiment=5),\n",
       " Row(id=330044317186007042, text='RT @beatonna: I have recently come to understand from existing earth that Iron Man 3 is opening this weekend, I have found this information…', sentiment=5),\n",
       " Row(id=330044317408296960, text='Perks of the job: Seeing  Iron Man 3 for free and first... Arch reactor sold separately http://t.co/9U04JiVbTy', sentiment=5),\n",
       " Row(id=330044320071692288, text='Very want\\nRT @MondoNews: IRON MAN 3 On Sale Info! http://t.co/CgDyFA4VIL', sentiment=5),\n",
       " Row(id=330044321917190144, text='Off to see Iron Man 3... Heard too much about how good it is ..', sentiment=5),\n",
       " Row(id=330044323758501888, text='IRON MAN 3 #geeks #excited #eeeeee', sentiment=5),\n",
       " Row(id=330044323766870016, text='Oh fug I forgot iron man 3 was coming out tonight TIGHT', sentiment=5),\n",
       " Row(id=330044326094704642, text='MAY 2010 - IRON MAN 2, MAY 2011- THOR, MAY 2012- AVENGERS, MAY 2013- IRON MAN 3', sentiment=5),\n",
       " Row(id=330044331287265281, text='iron man 3 was beast', sentiment=5),\n",
       " Row(id=330044332604280832, text='Pas mal Iron Man 3', sentiment=5),\n",
       " Row(id=330044333732536320, text='Iron Man 3 Mark 42 Hand USB Flash Drive: Info Think’s Iron Man 3 Hand USB Flash Drive is just the companion th... http://t.co/lUv9UO1Nd8', sentiment=5),\n",
       " Row(id=330044336047792128, text='RT @TopicalTodd: New In Theaters 5/3: Iron Man 3 And Everything Else http://t.co/oNalfLXGZ4 #IronMan #IronMan3 #movies #TheIceman #TopicalT…', sentiment=5),\n",
       " Row(id=330044345237504000, text=\"Who's taking me to see Iron Man 3!??\", sentiment=5),\n",
       " Row(id=330044346785226752, text='Asdfghjkjhgfvub!!! Iron man 3 was amazing!!!!!!!!!!!!!!!!', sentiment=5),\n",
       " Row(id=330044348261617664, text='Tony Stark. ♥', sentiment=5),\n",
       " Row(id=330044348316151808, text='@davidcicchetti \"@MondoNews: IRON MAN 3 On Sale Info! http://t.co/6P9gpjyzo7\"', sentiment=5),\n",
       " Row(id=330044353185738752, text='OMG! IRON MAN 3 BEST IRON MAN FILM EVER! :D 😎😋', sentiment=5),\n",
       " Row(id=330044352304906241, text='&lt;3 IRON MAN 3 &lt;3 @Clarich_ @IreLimon http://t.co/rXUvmo9QLs', sentiment=5),\n",
       " Row(id=330044356335636480, text='Iron Man 3 es bien mucho', sentiment=5),\n",
       " Row(id=330044356394377216, text='Muero por ver Iron man 3 !!!', sentiment=5),\n",
       " Row(id=330044358072098817, text='Lamenting the loss of pre-Tony Stark Robert Downey Jr : http://t.co/4qrOE76YYq', sentiment=5),\n",
       " Row(id=330044358306967552, text='RT @MondoNews: IRON MAN 3 On Sale Info! http://t.co/z499FcQpV3', sentiment=5),\n",
       " Row(id=330044359070343169, text='IRON MAN 3 is out tomorrow  ! 😍😍😍👏👏', sentiment=5),\n",
       " Row(id=330044360752242689, text=\"Come to @J_Wilk77's for a quiet night in and he goes out to watch iron man 3 👍 #standard\", sentiment=5),\n",
       " Row(id=330044361213620225, text='Iron man 3 was pretty good. pretty weird ending tho', sentiment=5),\n",
       " Row(id=330044362127986691, text=\"Not fucking with Iron Man 3 tonight. Fuck a 9 o'clock show.\", sentiment=5),\n",
       " Row(id=330044366292910081, text='The fact that I get to watch Iron Man 3 before anyone else &gt;&gt;&gt;&gt; #winning #lovemybrother', sentiment=5),\n",
       " Row(id=330044369866477570, text='Iron fucking man 3', sentiment=5),\n",
       " Row(id=330044370059399168, text='I wanna watch iron man 3 soo badly 😟', sentiment=5),\n",
       " Row(id=330044372760526848, text='\"Iron Man 3\" arrasa en los cines nacionales con más de 400 mil espectadores http://t.co/8HPImoQhNh', sentiment=5),\n",
       " Row(id=330044378343145472, text='The new villain on Iron Man 3 looks familiar. Now I know how Obama felt after The BIBLE! #AtLeastItsNotSatan http://t.co/RRpgM0H2CW', sentiment=5),\n",
       " Row(id=330044380276736000, text='RT @C_Smoovee: IRON MAN 3 TONIGHT', sentiment=5),\n",
       " Row(id=330044386933080064, text='@Gina_cm @KathyPeregrina mejor vamos al cine a ver Iron Man 3', sentiment=5),\n",
       " Row(id=330044389231562753, text='Someone take me to go watch iron man 3 with them tonight. 😘', sentiment=5),\n",
       " Row(id=330044390091390976, text='Т.к завтра пойду на 3 часть Iron Man , сегодня смотрел 1,2 часть. Теперь глаза красные как костюм главного героя :0 #чайсахар #красныеглаза', sentiment=5),\n",
       " Row(id=330044390317903874, text='Net naar iron man 3 geweest. #vjeat #koel', sentiment=5),\n",
       " Row(id=330044391777505282, text='Iron man 3 thoo', sentiment=5),\n",
       " Row(id=330044392993869824, text='Iron Man 3! (@ Grand Cinema - Al Hamra w/ 16 others) [pic]: http://t.co/ELzdmm5nFc', sentiment=5),\n",
       " Row(id=330044393211969537, text='asli gua mau bgt beli sticker line yg iron man 3 ckckckck', sentiment=5),\n",
       " Row(id=330044393673351168, text=\"Excited to see RSC's Julius Caesar with @ReignOfTaylor tonight &amp; midnight premiere of Iron Man 3 with her and @Ging3rSnapp #dreamsdocometrue\", sentiment=5),\n",
       " Row(id=330044396584189952, text='New @Imaginedragons and @awolnation songs in the new Iron Man 3 movie? #ICanDigIt', sentiment=5),\n",
       " Row(id=330044396873584643, text='Going to see iron man 3 tonight with @taraellis21 @elealmac #hellyeah', sentiment=5),\n",
       " Row(id=330044399700570112, text='Iron Man 3: Gut oder schlecht?', sentiment=5),\n",
       " Row(id=330044402460413952, text='I wanna watch Iron Man 3', sentiment=5),\n",
       " Row(id=330044403186032640, text='Iron Man 3 tonight!', sentiment=5),\n",
       " Row(id=330044405304143873, text='Downloading Iron man 3', sentiment=5),\n",
       " Row(id=330044408760266752, text='@EveLin_Leto Asi o mas obvio jaja pues claro solo para el y tony stark', sentiment=5),\n",
       " Row(id=330044407225135104, text='Trop bien iron man 3', sentiment=5),\n",
       " Row(id=330044411608174592, text='Why does every Iron Man 3 review start with \"Iron Man 2 was horrible\"? Iron Man 2 kicked ass!', sentiment=5),\n",
       " Row(id=330044416280629249, text='Iron man 3 tonight will be epic. Good or bad.', sentiment=5),\n",
       " Row(id=330044419074060288, text='I kinda want to c iron man 3', sentiment=5),\n",
       " Row(id=330044419078234112, text='RT @Lurita90: Que buena amiga es @tinitinix que me lleva a ver Iron man 3, solo me faltan los conguitos', sentiment=5),\n",
       " Row(id=330044420319752192, text='Iron man 3 tonight!!!', sentiment=5),\n",
       " Row(id=330044425235484672, text='Iron man 3:D', sentiment=5),\n",
       " Row(id=330044425831055360, text='RT @gofobo: Hey, anyone want an official gift bag from the Iron Man 3 junket? http://t.co/iQTvr1Rpxp', sentiment=5),\n",
       " Row(id=330044426548293633, text='RT @RottenTomatoes: Iron Man 3 is #CertifiedFresh at 80%, with 139 reviews.  http://t.co/mOsEwyb0yW', sentiment=5),\n",
       " Row(id=330044427768836097, text='Iron Man 3 Trailer Parody http://t.co/y3NJZVLKMO', sentiment=5),\n",
       " Row(id=330044427991121920, text='[PRE-ORDER/SARCASM] http://t.co/Tgiy2h7ilo Expecting a giant flop, IRON MAN 3 is up for pre-order on Amazon.', sentiment=5),\n",
       " Row(id=330044428842573824, text='For everyone going to see Iron Man 3 tonight.. No spoilers.. Thanks in advance', sentiment=5),\n",
       " Row(id=330044438388826112, text=\"Oop it's actually a lot of good movies out this weekend ..Scream 5 or iron man 3 sounds interesting lol\", sentiment=5),\n",
       " Row(id=330044438594322432, text='@veidtt @georgssilis Hey, you guys want to see Iron Man 3 tomorrow?', sentiment=5),\n",
       " Row(id=330044439068278784, text='RT @VedoTheSinger: I wanna go see Iron Man 3', sentiment=5),\n",
       " Row(id=330044437914845184, text=\"Iron Man 3 : déjà plus de deux millions d'entrées - Cinéma - MYTF1News http://t.co/AInXbanlp8\", sentiment=5),\n",
       " Row(id=330044439177338880, text='RT @FullSail: Iron Man 3 is the first movie to utilize 4DX technology, adding smells, movement, and sprays. What do you think? http://t.co/…', sentiment=5),\n",
       " Row(id=330044441333215234, text='RT @itttsdhaan: Dying to see iron man 3😢', sentiment=5),\n",
       " Row(id=330044451122716672, text='I want to watch iron.man 3 again like right now', sentiment=5),\n",
       " Row(id=330044453878366208, text=\"So apparently I'm going to see Iron Man 3 on Saturday with a billion people. My friends are the best. I love you guys 😊❤\", sentiment=5),\n",
       " Row(id=330044458676666368, text='Take me to go watch Iron Man 3 and I will love you forever.', sentiment=5),\n",
       " Row(id=330044459138031616, text='Best movie ever iron man 3!! http://t.co/biF2N7yQe5', sentiment=5),\n",
       " Row(id=330044464326389760, text='RT @ViaFa6ma: I wanna watch iron man 3 soo badly 😟', sentiment=5),\n",
       " Row(id=330044465676959744, text='RT @BRIANMBENDIS: Photo: Marvel Comics Super Special #10, Featuring Star-Lord, Winter 1979, cover by Earl Norem and Peter... http://t.co/ku…', sentiment=5),\n",
       " Row(id=330044471301521409, text='RT @victoor_manu: IRON MAN 3♥♥♥ arrechisimaa', sentiment=5),\n",
       " Row(id=330044472673050624, text='Iron Man 3 - ня ня ня ня.', sentiment=5),\n",
       " Row(id=330044481149747204, text='RT @Domzen8: Downloading Iron man 3', sentiment=5),\n",
       " Row(id=330044484417114112, text=\"#MovieNightThursday \\nIRON MAN 3 @ 9:30😍❤💛 \\nI'm so excited!!😱😜\", sentiment=5),\n",
       " Row(id=330044485599899648, text=\"I'm glad last year I had money to buy my avengers shirt. I love having something marvel to wear to the premiers. Iron Man 3 tonight! #stoked\", sentiment=5),\n",
       " Row(id=330044487873200129, text=\"Want to annoy someone so bad? Tell them the whole plot for Iron Man 3 if they haven't watched it yet. :'P\", sentiment=5),\n",
       " Row(id=330044491241254912, text=\"RT @_amburgerrr Who's taking me to see Iron Man 3!?? // some lightskin nigga with blue or green eyes.\", sentiment=5),\n",
       " Row(id=330044497595625474, text='Посмотрела премьеру  Iron man 3 живя в Украине раньше,чем моя сестра живущая в Штатах .whats wrong with this world ?', sentiment=5),\n",
       " Row(id=330044500795871232, text=\"@bathenn aww yes omfg still can't get over robert downey jr. phuuuuu calm the shit down but I can't\", sentiment=5),\n",
       " Row(id=330044507921977344, text='I HAVE to see Iron Man 3 this weekend', sentiment=5),\n",
       " Row(id=330044508186214400, text='@BrandonPurser iron man 3 Saturday night. Be there or @PaulWebb4 and @And_Dannn and myself will hurt you.', sentiment=5),\n",
       " Row(id=330044509180276736, text='Железный Человек 3 - Iron Man 3 » Androids Land http://t.co/E2IpYj7gu4', sentiment=5),\n",
       " Row(id=330044510765740032, text='Looks like there is a second date in the works. Going to see Iron Man 3 on Sunday', sentiment=5),\n",
       " Row(id=330044510820261889, text='Iron man 3 lets hope its awesome like 2', sentiment=5),\n",
       " Row(id=330044513055805440, text=\"@KatherynBurke @adamlustig14 @ddydaddy @xLaffoon I'm talking anything to see iron man 3 tonight\", sentiment=5),\n",
       " Row(id=330044515522052096, text='RT @vengelawliet: Al final de Iron Man 3, Tony Stark despierta en un hospital sin piernas y se da cuenta de que nunca fue millonario ni sup…', sentiment=5),\n",
       " Row(id=330044519385022464, text='Iron Man 3 Original Artwork by BASK @1xRUN http://t.co/0GCHvknaTh', sentiment=5),\n",
       " Row(id=330044522727874560, text=\"RT @vandashti: Iron Man 3 was funny and an eye candy but I expected better. The movie wasn't as good as I thought it would be, and the plot…\", sentiment=5),\n",
       " Row(id=330044523331870720, text='Preparandome para ir al cine con mi hermano pequeño y mi padre a ver IRON MAN 3 :)', sentiment=5),\n",
       " Row(id=330044525147992067, text=\"I honestly can't wait to see iron man 3\", sentiment=5),\n",
       " Row(id=330044525613559809, text='We are going to have FREE tickets to IRON MAN 3 at Movie Town in Martinsville , Va... This is for the 3D opening... http://t.co/vYk37iqSaZ', sentiment=5),\n",
       " Row(id=330044527450681344, text='“@MondoNews: IRON MAN 3 On Sale Info! http://t.co/118poTukLa” @BigStodd', sentiment=5),\n",
       " Row(id=330044528218214400, text='Who wants to join me in the viewing of Iron Man 3? No one? Okay.', sentiment=5),\n",
       " Row(id=330044528700583936, text=\"Coldplay 'putting something good in the world', says Gwyneth Paltrow Iron Man ...: Chris Martin's wife, Hollyw... http://t.co/mAkSaFc3eg\", sentiment=5),\n",
       " Row(id=330044529375846401, text=\"Coldplay 'putting something good in the world', says Gwyneth Paltrow Iron Man ...: Chris Martin's wife, Hollyw... http://t.co/opzdQxWxBd\", sentiment=5),\n",
       " Row(id=330044530944532480, text=\"Coldplay 'putting something good in the world', says Gwyneth Paltrow Iron Man ...: Chris Martin's wife, Hollyw... http://t.co/07H8vb2gvB\", sentiment=5),\n",
       " Row(id=330044534786506752, text='RT @itttsdhaan: Dying to see iron man 3😢', sentiment=5),\n",
       " Row(id=330044536137060352, text='Vaya patata Iron Man 3', sentiment=5),\n",
       " Row(id=330044539605770240, text=\"Tonight's Iron Man 3 Premiere just keeps getting BETTER!\\n\\nFirst 25 guests in tonight will receive a full sized... http://t.co/ypWv950zG2\", sentiment=5),\n",
       " Row(id=330044539240845312, text='RT @iTunesMusic: Every super hero needs theme music. Listen how @ImagineDragons @neontrees and more take on Iron Man 3. http://t.co/wvJeiQE…', sentiment=5),\n",
       " Row(id=330044542164283393, text=\"I'm trying to hit this iron man 3 premiere tonight\", sentiment=5),\n",
       " Row(id=330044550783569922, text='\"@Lati_Mak: RT! \"@LateefaM: \"We create our own demons\" -Iron Man 3\"\"', sentiment=5),\n",
       " Row(id=330044553681842176, text='Iron Man 3!!!', sentiment=5),\n",
       " Row(id=330044553849602048, text='RT @ShougAE: IRON MAN 3? One Word?\\n\\nAMAZING!!!!!!!!!!!!', sentiment=5),\n",
       " Row(id=330044554000601089, text='IRON MAN 3 Trailer - Thai sweded by FEDFE: http://t.co/mlknbkSU2a via @youtube', sentiment=5),\n",
       " Row(id=330044554411646978, text='@DanielJLayton seen it twice already, I absoloutly love it! Everytime I see tony stark I fall a little bit more in love...', sentiment=5),\n",
       " Row(id=330044556290703361, text='RT @2Cool_4Yu: Iron man 3 midnight launch!!!', sentiment=5),\n",
       " Row(id=330044557720956929, text='RT @BeanTV: Kinda wanna dress up as tony stark and go see iron man 3 at midnight', sentiment=5),\n",
       " Row(id=330044559113461762, text='RT @RobertKouba: This is PURE GENIUS! Thai parody of the Iron Man 3 trailer. http://t.co/z3c3rUucaS', sentiment=5),\n",
       " Row(id=330044559042170880, text='Review: Iron Man 3 http://t.co/whcMc9ILY3 via @filmonic', sentiment=5),\n",
       " Row(id=330044560740855808, text=\"Video: New at the box office: Robert Downey Jr. in 'Iron Man 3' http://t.co/7ikRJcl9Sn\", sentiment=5),\n",
       " Row(id=330044560896049152, text='No les quiero arruinar la pelicula Iron man 3 pero al final los trabajadores del cine abren la puerta y la gente sale.', sentiment=5),\n",
       " Row(id=330044562133360640, text='Still need to go watch Iron Man 3✌', sentiment=5),\n",
       " Row(id=330044562036912128, text='Iron man 3 il passe crem', sentiment=5),\n",
       " Row(id=330044563194523649, text='Big Weekend! Free Comic Book Day 1st Sat in May and Iron Man 3. Trying to sneak in Oblivion too.', sentiment=5),\n",
       " Row(id=330044564322787329, text='RT @MondoNews: IRON MAN 3 On Sale Info! http://t.co/z499FcQpV3', sentiment=5),\n",
       " Row(id=330044564444413954, text='Iron Man 3 - Trailer de bajo presupuesto... - http://t.co/oK6xPJE5ck', sentiment=5),\n",
       " Row(id=330044566348644352, text=\"RT @EW: 'Iron Man 3' passes $300 million internationally, smashes opening day record in China http://t.co/54oJvh5oGq #IronMan3\", sentiment=5),\n",
       " Row(id=330044566411554817, text='Iron man 3 comes out tonight ?', sentiment=5),\n",
       " Row(id=330044567820845056, text='Sitting at iron man with @Will_Bowles_  surrounded by specky pricks with 3 inch biceps #speckypricks', sentiment=5),\n",
       " Row(id=330044570563915777, text='Je follow une twitto qui s\\'appelle \"Tony Stark\" je fangirl quand je vois son nom dans ma TL en pensant à Robert Downey Jr &lt;3', sentiment=5),\n",
       " Row(id=330044571440525313, text='Petite iron man 2 avec la petite soeur et demain je retourne au cinema pour voir le 3 avec ma petite soeur', sentiment=5),\n",
       " Row(id=330044571834777600, text='Iron Man 3 midnight showing with too many people too tag tonight, hell yeah', sentiment=5),\n",
       " Row(id=330044572182908930, text='RT @mtcorn97: Someone go with me to see Iron Man 3???', sentiment=5),\n",
       " Row(id=330044572510072832, text='\"I still remember how I read Justin Bieber was in Iron Man 3 the night before I watched and I was internally frightened. AND NO THANK GOD.\"', sentiment=5),\n",
       " Row(id=330044578818310146, text='RT @FullSail: Iron Man 3 is the first movie to utilize 4DX technology, adding smells, movement, and sprays. What do you think? http://t.co/…', sentiment=5),\n",
       " Row(id=330044579720089600, text='Buru\" ngejar jam tayang akhirnya gw nemploknya di taman angrek jga,nonton filem yg dari awal gw tw jagonya pasti menang #iron man 3* jelep', sentiment=5),\n",
       " Row(id=330044582169554944, text='Iron man 3 tonight!!  Woot!', sentiment=5),\n",
       " Row(id=330044584669347843, text='RT @C_Benitez09: Iron Man 3 &gt;&gt;&gt;&gt; #mustwatch', sentiment=5),\n",
       " Row(id=330044585847975936, text='Iron Man 3 #Booyah', sentiment=5),\n",
       " Row(id=330044588251295745, text=\"Can't wait to see Iron Man 3 tomorrow with my son:)\", sentiment=5),\n",
       " Row(id=330044588301627393, text='Ene cine viendo iron man 3 😁👍👍', sentiment=5),\n",
       " Row(id=330044593288642561, text='Encantada con Tony Stark ♥ Muy buena Iroman 3.', sentiment=5),\n",
       " Row(id=330044599143907328, text='En Iron Man 3, el presidente no era negro, eso les restó bastante credibilidad.', sentiment=5),\n",
       " Row(id=330044599735300096, text='No es ta buena la peli \"Lo que sea\" no tiene punto de comparación con IRON MAN 3 !!!! @ferchugerlero', sentiment=5),\n",
       " Row(id=330044602147041280, text='Áudio: Basalt | The Hit House\\xa0 Iron Man 3 Trailer\\xa0 http://t.co/4vXXUnzQDk', sentiment=5),\n",
       " Row(id=330044604005101569, text='RT @ThroMyEyez: Iron Man 3 in the morn!', sentiment=5),\n",
       " Row(id=330044605305352192, text='Tryna go see Iron Man 3 tomorrow, I know that bit gone be good', sentiment=5),\n",
       " Row(id=330044607549276160, text='Seems like Marvel nailed it again! http://t.co/Rd5mNjoHrJ', sentiment=5),\n",
       " Row(id=330044608606253056, text='Wanna go watch iron man 3 so bad!!', sentiment=5),\n",
       " Row(id=330044608774041600, text=\"I'm at Cineworld Edinburgh for Iron Man 3: An IMAX 3D Experience (Edinburgh, City of Edinburgh) w/ 2 others http://t.co/k3ornn8L27\", sentiment=5),\n",
       " Row(id=330044609348653056, text='Iron Man 3 (reseña OBG888 sin spoilers) - Tony Stark está de regreso en la tercera entrega de Iron Man. Un... http://t.co/K6Fd8oHCRw', sentiment=5),\n",
       " Row(id=330044612574056448, text=\"RT @AppStore: Suit up and prepare for battle in @Gameloft's Iron Man 3 - The Official Game, a beautiful endless flier. http://t.co/LM3ID7Q7…\", sentiment=5),\n",
       " Row(id=330044619159117824, text='RT @TelleChri: #Iron Man 3..', sentiment=5),\n",
       " Row(id=330044619154931712, text='iron man 3 tonight?', sentiment=5),\n",
       " Row(id=330044621470183424, text='@SassyJarvis you said something about me being a cross-dressing Tony Stark and I told you I had tweeted a picture with that caption.', sentiment=5),\n",
       " Row(id=330044622275493889, text='RT @EpicElizabeth: Iron Man 3 tonight!', sentiment=5),\n",
       " Row(id=330044622782988288, text='RT @BeautyandTweets: Sooo who wants to take me to go see Iron Man 3 this weekend? I REALLY wanna go! 😁', sentiment=5),\n",
       " Row(id=330044622887874562, text='Iron Man 3 tonight :))', sentiment=5),\n",
       " Row(id=330044623043051522, text=\"RT @FUNNYPICS: I Can't Wait For Iron Man 3 #TonyStark #sp http://t.co/ZQ5bZJf43I\", sentiment=5),\n",
       " Row(id=330044627174432770, text='Iron Man 3 is coming out tomorrow😍😍', sentiment=5),\n",
       " Row(id=330044628923469825, text='Id still die to have the tony stark goatee', sentiment=5),\n",
       " Row(id=330044630844456961, text='RT @nsDdC: El éxito en taquilla de Iron Man 3 viene a recordar que en la era de Internet se están extinguiendo las películas medianas', sentiment=5),\n",
       " Row(id=330044631368740864, text='Iron man 3 http://t.co/iVCe71i60P', sentiment=5),\n",
       " Row(id=330044632283095040, text='RT @MondoNews: IRON MAN 3 On Sale Info! http://t.co/z499FcQpV3', sentiment=5),\n",
       " Row(id=330044638897532928, text='Just noticed Tony Stark flies the Iron Man suit across the Pacific Ocean and all of Asia on his second flight. #confidence #IronManathon', sentiment=5),\n",
       " Row(id=330044646795399168, text='Been working on these old Star Wars comics for years my first few comics ever! #marvel #marvelcomics… http://t.co/39L1J3D8d2', sentiment=5),\n",
       " Row(id=330044647839789056, text='Necesito ver Iron Man 3 este weekend si falta...no puedo esperar 1 mes por verla como paso con G.I.Joe', sentiment=5),\n",
       " Row(id=330044649987260416, text='#ImExcitedfor Iron Man 3 &amp;&amp; F.A.F 6', sentiment=5),\n",
       " Row(id=330044658543648769, text='Iron Man 3 http://t.co/AOwXw6vo5B via @sharethis', sentiment=5),\n",
       " Row(id=330044659655143424, text='Somos unos freaks y nos tragamos todos los creditos de Iron Man 3 buscando la escenita extra', sentiment=5),\n",
       " Row(id=330044660624027649, text=\"I can't wait to watch iron man 3!!\", sentiment=5),\n",
       " Row(id=330044660758241280, text='I watched Iron Man 3. AMAZING', sentiment=5),\n",
       " Row(id=330044660686917632, text='Herb and Iron Man 3. Seems like a legit night. @GotReza', sentiment=5),\n",
       " Row(id=330044661106372609, text='Robert Downey Jr. is SEXY AS PHUCK 😍😍😍', sentiment=5),\n",
       " Row(id=330044659768369153, text=\"Think I'm allowed to break my silence. Iron Man 3 is sadly the weakest of the three, but still a lot of fun and worth seeing. 3/4\", sentiment=5),\n",
       " Row(id=330044663128023040, text='Ready to go see Iron Man 3 tonight!', sentiment=5),\n",
       " Row(id=330044663996248064, text=\"So who's coming to see Iron Man 3 with me? Anyone?\", sentiment=5),\n",
       " Row(id=330044668572229632, text='Iron Man 3 There is an app for everything now days http://t.co/q2rhatKEkL', sentiment=5),\n",
       " Row(id=330044668828086273, text='@DollyFaze I did that the day before yesterday I was all up n down my tl while watching iron man 3 lol', sentiment=5),\n",
       " Row(id=330044668203130880, text='Got my iron man 3 ticket😬 http://t.co/8iPLeA5zDI', sentiment=5),\n",
       " Row(id=330044672032518146, text='RT @_WriteWithLove: I really want to see Iron Man 3', sentiment=5),\n",
       " Row(id=330044672330313728, text='Just back to home after watching #iron man 3', sentiment=5),\n",
       " Row(id=330044672942686209, text='Iron man 3 tonight will no doubt blow my freaking mind', sentiment=5),\n",
       " Row(id=330044673219502080, text='Estoy perdida, total, absoluta y perdidamente enamorada de Tony Stark @RochelleDark', sentiment=5),\n",
       " Row(id=330044673869627392, text='JUST BOUGHT! Iron Man 3: An IMAX 3D Experience http://t.co/5PzNjZApuy via @sharethis @giltron28', sentiment=5),\n",
       " Row(id=330044682535067648, text='Que te llame el corren y te diga, vamos al cine yo te pago♥ Lo ame. a ver Iron man 3 ♥', sentiment=5),\n",
       " Row(id=330044682602172416, text='Iron Man 3 en 4D y Cosmopolis hoy :D adgcajuagcajaifaj (:', sentiment=5),\n",
       " Row(id=330044686305738753, text='@janethlujanooo no no I go see Iron Man 3 today', sentiment=5),\n",
       " Row(id=330044692962111489, text='Really kinda wanting to see iron man 3 tonight...', sentiment=5),\n",
       " Row(id=330044694920847360, text='Llevame $: ahahahahah RT @Andraadeee_ : QUIERO IR A VER IRON MAN 3.', sentiment=5),\n",
       " Row(id=330044695734530048, text='Iron Man 3 is crap #overhyped', sentiment=5),\n",
       " Row(id=330044696648888321, text='RT @Anyae_e: &lt;3 IRON MAN 3 &lt;3 @Clarich_ @IreLimon http://t.co/rXUvmo9QLs', sentiment=5),\n",
       " Row(id=330044697261244417, text='RT @ArmyruleDasilva: berjaya gak tgk iron man 3.. haha', sentiment=5),\n",
       " Row(id=330044699534565376, text='@SkylerSkrillz @iFM_Woozy @iFM_Dizzy watch iron man 3 tomorrow :3 im watching it tomorrow as well as a school trip lol.', sentiment=5),\n",
       " Row(id=330044700927074304, text=\"“@DollyFaze I should Tweet about Iron Man 3 and Ruin the movie like y'all Ruined Batman Dark Knight Rises for me”\", sentiment=5),\n",
       " Row(id=330044704018280448, text='Iron man 3 in a bit, nice end to a good day', sentiment=5),\n",
       " Row(id=330044711446409216, text='Iron Man 3 Midnight Show tonight', sentiment=5),\n",
       " Row(id=330044715082854401, text='แหม่ะจบสักทีavenger ไล่ดูตั้งเเต่hulk1-the avengerมา4วัน พน iron man 3 😋', sentiment=5),\n",
       " Row(id=330044715271610369, text='Iron man 3 was great 👏', sentiment=5),\n",
       " Row(id=330044717985304580, text=\"Tony Stark's #HallOfArmor #StarkExpo #IM3 @ Innoventions http://t.co/wEM1G1pWn3\", sentiment=5),\n",
       " Row(id=330044719784673280, text=\"RT @DavidBedwell: Saw an advert for Mandarin speaking job earlier. I'll apply if it's like the Iron Man 3 Mandarin..\", sentiment=5),\n",
       " Row(id=330044723609862144, text='RT @thatdowneyguy: IRON MAN 3 IRON MAN 3 IRON MAN 3 IRON MAN 3 IRON MAN 3 IRON MAN 3 IRON MAN 3 IRON MAN 3 IRON MAN 3 IRON MAN 3 IRON MAN 3…', sentiment=5),\n",
       " Row(id=330044724385816577, text='I liked a @YouTube video http://t.co/sAkKcPuAgI Iron Man 3 Trailer Parody', sentiment=5),\n",
       " Row(id=330044725090463745, text='So excited for Iron Man 3! #favsuperhero #lovesomerobertdowneyjr', sentiment=5),\n",
       " Row(id=330044726134845440, text='goin to see Iron Man 3 at midnight aw yiS', sentiment=5),\n",
       " Row(id=330044728815001600, text='I wanna see Iron Man 3!!!!!!!!!!', sentiment=5),\n",
       " Row(id=330044729096015872, text=\"I don't want to study OR go to class I just wanna see Iron Man 3 #firstworldproblems\", sentiment=5),\n",
       " Row(id=330044729708392448, text='Hmmmmm.... Scandal tonight or Iron Man 3 at 9pm..... Hmmmmm', sentiment=5),\n",
       " Row(id=330044730190745600, text=\"I think I've encountered an equal amount of promotion for Marc Maron's IFC show as I have Iron Man 3.\", sentiment=5),\n",
       " Row(id=330044731956555776, text='Iron Man 3 premier tonight at work! #GonnaBeInsane #ReadyForIt', sentiment=5),\n",
       " Row(id=330044734099828737, text='Bno sale cine a ver iron man 3', sentiment=5),\n",
       " Row(id=330044736557690881, text='La buena peli de Iron Man 3!', sentiment=5),\n",
       " Row(id=330044736800952321, text='Iron Man 3 &lt;3 http://t.co/PR3owm6Ybs', sentiment=5),\n",
       " Row(id=330044738147336192, text='I forgot about iron man 3 must see this weekend too', sentiment=5),\n",
       " Row(id=330044741951569921, text='WHO GOIN TO SEE IRON MAN 3 ?', sentiment=5),\n",
       " Row(id=330044743969021952, text='RT @12Augustina: IRON MAN 3 Tonight with @CStephanos1 @abster_says @indiantrombone @TheHippoAbides @Fergals1107 @cleverclarissaa :)', sentiment=5),\n",
       " Row(id=330044744078094336, text='Que wapa esta iron man 3!!! Como se nota que es  mi super heroe favorito ains....', sentiment=5),\n",
       " Row(id=330044744212299778, text='RT @Zay_Tiggs: iron man 3 tonight?', sentiment=5),\n",
       " Row(id=330044745768374272, text='RT @ABBenChile: Este es el IRB 120, el robot más pequeño de ABB, con el que participó en Iron Man 3 http://t.co/gRabc1SV7i', sentiment=5),\n",
       " Row(id=330044747135713280, text='RT @JoshTomWee: Bought my tickets to Iron Man 3!!!!!', sentiment=5),\n",
       " Row(id=330044747827781632, text='Iron Man 3 http://t.co/YL6PRmaGSw via @sharethis', sentiment=5),\n",
       " Row(id=330044749954310144, text='I really should be more excited for iron man 3. But, here I am', sentiment=5),\n",
       " Row(id=330044751493595136, text=\"@danzords is it just me? But we're you also a little surprised by the opening song in iron man 3?\", sentiment=5),\n",
       " Row(id=330044753125179394, text='RT @iTunesMusic: Every super hero needs theme music. Listen how @ImagineDragons @neontrees and more take on Iron Man 3. http://t.co/wvJeiQE…', sentiment=5),\n",
       " Row(id=330044755092328448, text='“@TheAVClub: Iron Man 3 desperately aims to please, but falls short http://t.co/RDOaAyQjTZ” @AkwabaAnn', sentiment=5),\n",
       " Row(id=330044755679539202, text='In 24 hours we will be embarking on our adventure through Bolton to go see Iron Man 3 #ICannotControlMyExcitement', sentiment=5),\n",
       " Row(id=330044757566959616, text='RT @Deanshaanks: #Android Iron Man 3: The Official Game- Get More ISO-8 http://t.co/C0Gy9XChSH', sentiment=5),\n",
       " Row(id=330044757940269056, text='Quiero ir a ver Iron Man 3! cc @CastaJM', sentiment=5),\n",
       " Row(id=330044763334127618, text='Iron man 3. Ну, кто еще посмотрел, как впечатления?:)', sentiment=5),\n",
       " Row(id=330044763589984256, text='found a place to live next year. my back is dying. wanna have a dinner in the town and watch Iron Man 3 :(', sentiment=5),\n",
       " Row(id=330044765439684609, text='RT @KiRbY_GoT_MoJo tryna see iron man 3 tonight but everyone coming\\nflopping smh &lt;-- Same on my side 2 smh', sentiment=5),\n",
       " Row(id=330044778400067584, text='Imma be the one to ruin everything. Iron Man 3 was only OKAY! Check out 1channel.ch for ANY FREE MOVIE.', sentiment=5),\n",
       " Row(id=330044778920169472, text='iron man 3 tonight!!!!!', sentiment=5),\n",
       " Row(id=330044782309171200, text='Iron Man 3 rocks !!', sentiment=5),\n",
       " Row(id=330044785236799489, text=\"#SuryaRay #Surya #SuryaRay #Surya 'Iron Man 3' Family Review: 5 Things... http://t.co/QtXhvC62nN @suryaray @suryaray @suryaray @suryaray\", sentiment=5),\n",
       " Row(id=330044785752698880, text='Iron man 3 comes out at midnight tonight?! I wanna go!', sentiment=5),\n",
       " Row(id=330044786230833153, text='RT @ChairmanHKN: Iron Man 3!!!', sentiment=5),\n",
       " Row(id=330044787099070467, text='\"@RottenTomatoes: Iron Man 3 is #CertifiedFresh at 80%, with 139 reviews.\" I\\'ll be watching this tonight! #Excited', sentiment=5),\n",
       " Row(id=330044789305274368, text=\"#SuryaRay #Surya #SuryaRay #Surya 'Iron Man 3' Family Review: 5 Things... http://t.co/dsxc4ESuCe @suryaray @suryaray @suryaray @suryaray\", sentiment=5),\n",
       " Row(id=330044791381442560, text='Totally forgot about Iron Man 3 ❤', sentiment=5),\n",
       " Row(id=330044793432449024, text='RT @nowherezoe: IRON MAN 3 EST UNE PERTE DE TEMPS.', sentiment=5),\n",
       " Row(id=330044799027654659, text='RT @maza_nezale: This is what I said and how I looked while watching the premiere of \"Iron Man 3\" yesterday. #awesome http://t.co/n6lbqq0IQY', sentiment=5),\n",
       " Row(id=330044810742333440, text='RT @El_Padrinator: Amigos ya no les voy a contar más chistes sobre Iron Man 3, por favor 1ero compren su película de a dolar donde la María…', sentiment=5),\n",
       " Row(id=330044811698651136, text='RT @Beats_14: Iron Man 3 tonight :))', sentiment=5),\n",
       " Row(id=330044813879697408, text='I wish i was...RT @Capt_Sartorius: It is a really slow day is everyone at the theaters waiting to see Iron Man 3?', sentiment=5),\n",
       " Row(id=330044814122946560, text='RT @EmmyCic: I hope in the middle of the iron man movie it just turns into a daft punk music video w/ tony stark rapping', sentiment=5),\n",
       " Row(id=330044814647242753, text='So I guess Iron Man 3 is already playing?', sentiment=5),\n",
       " Row(id=330044814924062720, text='Iron Man 3 comes out tomorrow!', sentiment=5),\n",
       " Row(id=330044819311316992, text='Iron man 3👌😍', sentiment=5),\n",
       " Row(id=330044821299417088, text=\"Fair warning.  I've just had a major plot point for Iron Man 3 spoiled to me by a careless Facebook commenter.... http://t.co/VrEIM0TESV\", sentiment=5),\n",
       " Row(id=330044826756214785, text='Think I want to go to the midnight showing of Iron Man 3', sentiment=5),\n",
       " Row(id=330044827200798720, text='RT @Karissa_Noel: Anyone tryna see Iron Man 3 tonight?', sentiment=5),\n",
       " Row(id=330044827741876224, text='Who wants to go see iron man 3', sentiment=5),\n",
       " Row(id=330044831978102785, text='Iron man 3 tomorrow. #Excitedasfuck', sentiment=5),\n",
       " Row(id=330044832011677696, text='Definitely before the Iron Man 3 madness. http://t.co/sFb78sZ7RP', sentiment=5),\n",
       " Row(id=330044835077701633, text='So tonight when I get home, gotta make dinner, get ready for a parental visit tomorrow night, make bread and go see Iron Man :3', sentiment=5),\n",
       " Row(id=330044839292968960, text='RT @the_ironsheik: What movie better Iron Man 3 or Go Fuck Yourself 2?', sentiment=5),\n",
       " Row(id=330044841654378496, text=\"#SuryaRay #Surya #SuryaRay #Surya 'Iron Man 3' Family Review: 5 Things... http://t.co/ULLHE36jrK @suryaray @suryaray @suryaray @suryaray\", sentiment=5),\n",
       " Row(id=330044847295709186, text=\"If you haven't already seen Iron Man 3, go watch it now, best thing you could spend your money on rn\", sentiment=5),\n",
       " Row(id=330044848180699136, text='Tony Stark is my hero.', sentiment=5),\n",
       " Row(id=330044848272994305, text='I wish I was with @BaylorSwag16 today so we could go watch the Iron Man 3 premiere. #FatherSonTime', sentiment=5),\n",
       " Row(id=330044851997528067, text='No les quiero cagar el final de Iron Man 3, pero Harry Potter muere y después revive.', sentiment=5),\n",
       " Row(id=330044855499751425, text='Watching Iron Man 3 tonight with some awesome people! #SuperExcited!', sentiment=5),\n",
       " Row(id=330044858091839488, text='Iron Man 3 !!!', sentiment=5),\n",
       " Row(id=330044858725195776, text='IRON MAN 3 превосходный. Я в восторге! Н.Н,спасибо!', sentiment=5),\n",
       " Row(id=330044859262054400, text='“@TheyMyJrs: that sucks. my connect got me in tonight RT @RobertSallee Iron Man 3 tomorrow afternoon.” Manny you a hoe lol', sentiment=5),\n",
       " Row(id=330044859446603776, text='RT @hrae420: i wanna go see Iron Man 3 tonight!', sentiment=5),\n",
       " Row(id=330044859966705666, text='Iron Man 3 con las bailarinas mas feas @bareiromajo @araramirez26. @leticiacolman1', sentiment=5),\n",
       " Row(id=330044867944263680, text='RT @FreshPrinceDru: Iron Man 3 12:01 tonight. #word #maygodrunk #countdown2graduation #sneakinginsnacks #baleedat', sentiment=5),\n",
       " Row(id=330044869286449152, text='Th Boy is seeing Iron man 3 TODAY, may 2nd at 9 PM not tomorrow at opening showing at midnight. TODAY at 9 PM. :-)', sentiment=5),\n",
       " Row(id=330044869932351488, text='Iron Man 3 bout to be out tho', sentiment=5),\n",
       " Row(id=330044875380764672, text='RT @Ceejinator: Work needs to end, &amp; Iron Man 3 needs to hurry up.', sentiment=5),\n",
       " Row(id=330044875477221378, text='Pérate, pérate, pérate. ¿Osea que Iron Man 3 empieza hoy? ¬_¬', sentiment=5),\n",
       " Row(id=330044876735537152, text='I wanna go see iron man 3 this weekend!!', sentiment=5),\n",
       " Row(id=330044881768693760, text='Про Iron Man 3 http://t.co/fYNpmI6Kwg', sentiment=5),\n",
       " Row(id=330044882146164736, text='@VictorCasasM Iron Man 3 es la poya, y ni dios puede decir lo contrario.', sentiment=5),\n",
       " Row(id=330044886931865602, text='RT @iTunesMusic: Every super hero needs theme music. Listen how @ImagineDragons @neontrees and more take on Iron Man 3. http://t.co/wvJeiQE…', sentiment=5),\n",
       " Row(id=330044890014695425, text='RT @ShinaGreeves: Watched Iron Man 3 today! Wow!!!!', sentiment=5),\n",
       " Row(id=330044891012947968, text='brb iron man 1-3 with avengers in between', sentiment=5),\n",
       " Row(id=330044894691344384, text=\"I'm still sitting here trying to take in everything that happened but that was so good! Wow, everyone should go see Iron Man 3\", sentiment=5),\n",
       " Row(id=330044895739904000, text='Iron Man 3 today! Gonna be awesome', sentiment=5),\n",
       " Row(id=330044897031757825, text='RT @RLPoloMike: Iron Man 3, CFA Buffet, Genocide, and Cinco De Mayo this weekend', sentiment=5),\n",
       " Row(id=330044897266630657, text='♥ Tu &amp; Yo ♥\\nViiendo Iron Man 3 Piiensalo.. ;3', sentiment=5),\n",
       " Row(id=330044897950322688, text='Iron Man 3 was awesome.', sentiment=5),\n",
       " Row(id=330044898914996224, text='So excited for Iron Man 3 tonight', sentiment=5),\n",
       " Row(id=330044900479483907, text='Iron Man 3 Imax 3D tickets copped 9 pm yezzirrr', sentiment=5),\n",
       " Row(id=330044903952379904, text='-Tony Stark, ¿tienes whisky?. _No, sólo hay ron man.', sentiment=5),\n",
       " Row(id=330044905550405632, text='I geta see iron man 3 tonight maybe haha', sentiment=5),\n",
       " Row(id=330044906603175936, text='Iron man 3 tomorrow ;)', sentiment=5),\n",
       " Row(id=330044907911786496, text='Iron Man ;) (@ CineStar w/ 3 others) [pic]: http://t.co/GvZZZpG0OC', sentiment=5),\n",
       " Row(id=330044907987292160, text='Lots of free food at the Iron Man 3 premiere at GDC Lagos tonight! http://t.co/dHPtLFfiyg', sentiment=5),\n",
       " Row(id=330044910642294784, text=\"How Much Is Tony Stark's Mansion Worth? - IGN: http://t.co/2FoMKUFA0X via @IGNUK\", sentiment=5),\n",
       " Row(id=330044912902995968, text=\"Tonight's Iron Man 3 Premiere just keeps getting BETTER!\\n\\nFirst 25 guests in tonight will receive a full sized... http://t.co/iFJGFrXjNc\", sentiment=5),\n",
       " Row(id=330044917479002112, text=\"I can't wait for Iron Man 3 tonight.\", sentiment=5),\n",
       " Row(id=330044918577893376, text='RT @That_Imus_Girl: #ImExcitedfor Iron Man 3 &amp;&amp; F.A.F 6', sentiment=5),\n",
       " Row(id=330044918842155008, text='Solo se puede describir la peli de Iron Man 3 con lenguaje emoción #Dato #TweerSerio', sentiment=5),\n",
       " Row(id=330044921077714944, text='Iron Man 3 w/ @lb_anthony @damien_fl (@ Gaumont Convention) http://t.co/K5IaA3png4', sentiment=5),\n",
       " Row(id=330044925246844928, text='Perks of the job: seeing Iron Man 3 for free and first... Arc reactor sold separately http://t.co/psloDmliWw', sentiment=5),\n",
       " Row(id=330044925569822720, text=\"@MrRainWhisper @PhiWatcher alors que pr les 3 autres ils s'emboitent les uns apres les autres avec de vraies liaisons des iron man\", sentiment=5),\n",
       " Row(id=330044926517719040, text=\"RT @britttnii: I don't want to study OR go to class I just wanna see Iron Man 3 #firstworldproblems\", sentiment=5),\n",
       " Row(id=330044927411093504, text='bueno vamonos al cine a ver IRON MAN 3 en compañia d @Mc_Dhager y a pasarla genial =)', sentiment=5),\n",
       " Row(id=330044927901839364, text=\"@GradesSTRESSED @SeanChristoph lol I mean I watched avengers at midnight and the dark knight rises. I'm not that hype for Iron man 3 though\", sentiment=5),\n",
       " Row(id=330044930766548992, text='RT @95veroniica: La buena peli de Iron Man 3!', sentiment=5),\n",
       " Row(id=330044934780506112, text='So pumped to see iron man 3 tonight!', sentiment=5),\n",
       " Row(id=330044936101711873, text='request to tony stark make a iron bean suit #bean #marvel', sentiment=5),\n",
       " Row(id=330044940266655744, text=\"Iron Man 3 -&gt; That movie is FREAKIN' AWESOME !!!!!!\", sentiment=5),\n",
       " Row(id=330044941168431105, text='Inevitavelmente IRON MAN 3 é o novo líder da bilheteira nacional. No entanto os seus 93.000 esp. ficam aquém do... http://t.co/qkcIb8xSMX', sentiment=5),\n",
       " Row(id=330044946998493184, text='RT @mitchscooper14: Iron man 3 with @mahk3ree and @QuintonWonfor t tonight #free', sentiment=5),\n",
       " Row(id=330044949062098947, text=\"I unlocked the Marvel's Iron Man 3 Coming Soon sticker on #GetGlue! http://t.co/yN7mOKT9SI\", sentiment=5),\n",
       " Row(id=330044950735626240, text='@MathijsvKeulen iron man 3', sentiment=5),\n",
       " Row(id=330044951243141120, text='RT @iTunesMusic: Every super hero needs theme music. Listen how @ImagineDragons @neontrees and more take on Iron Man 3. http://t.co/wvJeiQE…', sentiment=5),\n",
       " Row(id=330044952069423104, text=\"In an alternate universe, Iron Man's superpower is to be able to press the clothes of an entire city in 3 minutes flat.\", sentiment=5),\n",
       " Row(id=330044952635666432, text='New Video: Watch, Pass, or Rent Video Movie Review: Iron Man 3 http://t.co/2o96X6Guil', sentiment=5),\n",
       " Row(id=330044952916668417, text='RT @ImJussMarquis: Iron man 3 ! Gonna be real tonight', sentiment=5),\n",
       " Row(id=330044953092833280, text=\"If you're heading to screenings of IRON MAN 3 late tonight, here's my @Forbes review -- http://t.co/lstT7OmnsS #IronMan3 @Iron_Man\", sentiment=5),\n",
       " Row(id=330044955588431875, text='Iron Man 3 was cool and all where action scenes were involved, but other than that I’m not impressed. Not even as witty as it used to be.', sentiment=5),\n",
       " Row(id=330044957400371200, text='Iron Man 3 by Mondo http://t.co/tNsX0IeLek', sentiment=5),\n",
       " Row(id=330044957794648064, text='doin some tech support for my sister, then hangin out, and waiting for Iron Man 3 tonight.', sentiment=5),\n",
       " Row(id=330044973133213696, text='Iron Man 3 was amazing!! The best from all 3 parts!!!', sentiment=5),\n",
       " Row(id=330044977814052864, text='Weltexpress: IRON MAN 3 (USA, 2013) - Ein Bösewicht mit Erziehungsauftrag und ein Superheld mit Pani http://t.co/Udagq9KF3H', sentiment=5),\n",
       " Row(id=330044978938138624, text='@ThomasvanKeulen iron man 3', sentiment=5),\n",
       " Row(id=330044979030401025, text='Cineee a ir a ver Iron Man 3 👌', sentiment=5),\n",
       " Row(id=330044980771028992, text='\"@HowardStern: How has Ralph seen \"Iron Man 3\" twice before I\\'ve seen it once??\"because he has no REAL job? @walkoffhbp', sentiment=5),\n",
       " Row(id=330044980850745344, text='“@HowardStern: How has Ralph seen \"Iron Man 3\" twice before I\\'ve seen it once??” // he doesn\\'t work!', sentiment=5),\n",
       " Row(id=330044981328900096, text='Yarın sınava girip Iron Man 3 izlemek istiyom da kim gidecek şimdi sinemaya :D', sentiment=5),\n",
       " Row(id=330044979466620928, text='Just have to get through work and then I can see Iron Man 3!!!', sentiment=5),\n",
       " Row(id=330044986831822850, text='ICYMI: Iron Man 3 Review http://t.co/Nsr4Bw8Q0H', sentiment=5),\n",
       " Row(id=330044987825860608, text='Iron Man 3 tomorrow?', sentiment=5),\n",
       " Row(id=330044988002025472, text='Iron Man 3 is now available in America!!!!yayyyy!!', sentiment=5),\n",
       " Row(id=330044990233382913, text='RT @PulledOut2Late: Iron man 3 tonight', sentiment=5),\n",
       " Row(id=330044991835607041, text='Photo: ourvaluedcustomers: After his friend began listing the reasons why he won’t watch IRON MAN 3… YES. http://t.co/XXmjtnl1Sw', sentiment=5),\n",
       " Row(id=330044992120819712, text='A regardé Iron Man 3 ;) nice !!! (@ Le Rex) http://t.co/HuKXSodQRV', sentiment=5),\n",
       " Row(id=330044993924395009, text=\"Iron Man 3 tomorrow with my mother. :D Which of course means an Iron Man marathon tonight... It's okay, mom, you can make it! Lol. #LoveYou\", sentiment=5),\n",
       " Row(id=330044996218650624, text='@norxh Iron man 3', sentiment=5),\n",
       " Row(id=330044999775444992, text='Iron Man 3 tonight! Woo!', sentiment=5),\n",
       " Row(id=330045000228405249, text='Iron man 3 best movie ever !!!!', sentiment=5),\n",
       " Row(id=330045000291348482, text='Fast &amp; Furious 6, Iron Man 3, Hangover 3. I must see these movies.', sentiment=5),\n",
       " Row(id=330045000664612864, text='Cheers! RT @EddieC046: 2014 Audi R8: Iron Man 3 Canvas: http://t.co/N8Qe2Un8de via @youtube @lunchmoney973 @i_was_a_fat_kid', sentiment=5),\n",
       " Row(id=330045002019377152, text='Iron Man 3 moral lessons: 1. Do not PHP-ing people who have some potential to revenge', sentiment=5),\n",
       " Row(id=330045006108839936, text='Plan on watching Iron Man 3 at 9pm :D', sentiment=5),\n",
       " Row(id=330045006368866305, text='RT @TheAVClub: Iron Man 3 desperately aims to please, but falls short http://t.co/vsn0YtruOd', sentiment=5),\n",
       " Row(id=330045008923213825, text='RT @Alvaserg15: @VictorCasasM Iron Man 3 es la poya, y ni dios puede decir lo contrario.', sentiment=5),\n",
       " Row(id=330045009908871168, text=\"RT That's gay @gdcinemas: @SirUTI and @AlexxEkubo spotted at the GDC Lagos Iron Man 3 premiere!!! @ThePalmsLagos\", sentiment=5),\n",
       " Row(id=330045011477549056, text=\"@the_ironsheik Pee Wee Herman is in Go Fuck Yourself 2, so I'll take Iron Man 3.\", sentiment=5),\n",
       " Row(id=330045015311138817, text='RT @beatonna: I have recently come to understand from existing earth that Iron Man 3 is opening this weekend, I have found this information…', sentiment=5),\n",
       " Row(id=330045015399206912, text='RT @CallMeOri_: Llevame $: ahahahahah RT @Andraadeee_ : QUIERO IR A VER IRON MAN 3.', sentiment=5),\n",
       " Row(id=330045015608930306, text='Iron Man 3 &gt;&gt;&gt;&gt;&gt;&gt;', sentiment=5),\n",
       " Row(id=330045015768326144, text='Capital Cities - One Minute More (Iron Man 3 : Heroes Fall) http://t.co/AhreJ5Uzxs via @youtube', sentiment=5),\n",
       " Row(id=330045016175153153, text='RT @pattonoswalt: IRON MAN 3 just blew my ass apart and hillbilly-fucked it full of awesome.*. (*usable poster quote)', sentiment=5),\n",
       " Row(id=330045022143655936, text=\"AND TONIGHT I'M GOING TO SEE IRON MAN 3 FUCK YEAH THIS DAY IS AWESOME\", sentiment=5),\n",
       " Row(id=330045022605033473, text='Quiero ver Iron Man 3', sentiment=5),\n",
       " Row(id=330045023661993984, text='@h_alhaashmiyh Iron man 3', sentiment=5),\n",
       " Row(id=330045023854936064, text='RT @iamamyrhodes: I guess the people who named Gwyneth Paltrow the Most Beautiful Person in the World did not see my new haircut?', sentiment=5),\n",
       " Row(id=330045024991576065, text='RT @RottenTomatoes: Iron Man 3 is #CertifiedFresh at 80%, with 139 reviews.  http://t.co/mOsEwyb0yW', sentiment=5),\n",
       " Row(id=330045028334444545, text='Iron Man 3 released in Japan in 4D? Fuckin hate Japan... They get DBZ movies &amp; 4D shit... We just now gettin the lil moving seats :(', sentiment=5),\n",
       " Row(id=330045028447711232, text='Who is going to watch Iron Man 3?', sentiment=5),\n",
       " Row(id=330045028309291008, text='@botdfmusic i plan too because you know...ROBERT DOWNEY JR.', sentiment=5),\n",
       " Row(id=330045029852786688, text='Iron man 3 better.be worth it..', sentiment=5),\n",
       " Row(id=330045032478408704, text='RT @Iron_Man: Watch @Marvel’s #IronMan3 star Robert Downey, Jr. on @JimmyKimmelLive, tonight on ABC at 11:35pm ET/10:35 CT! http://t.co/Kn0…', sentiment=5),\n",
       " Row(id=330045039541628929, text='RT @Sonicgame13: —Mi amor ¿y esas ojeras?\\n—Es que me desvelé pensando en ti. \\n—Awww ¿en serio?\\n—No, la verdad es que fui a ver Iron Man 3.', sentiment=5),\n",
       " Row(id=330045040657317890, text='Necesito ir a ver Iron Man 3, y como va la cosa voy a terminar yendo sola. Y loca.', sentiment=5),\n",
       " Row(id=330045039361282048, text='@crying_rockers @dzaster_joe shadows man behind the tony stark tower *konon laa* http://t.co/5Y7m8s4sfZ', sentiment=5),\n",
       " Row(id=330045044264407040, text='[Escapist] Escape to the Movies: Iron Man 3 http://t.co/kgUeclb73Y', sentiment=5),\n",
       " Row(id=330045044281180160, text='I liked a @YouTube video from @MrGamingTec http://t.co/nhndaLovkv Iron Man 3 Game Oficial', sentiment=5),\n",
       " Row(id=330045044931301377, text='Iron man 3 tonight with @_b_schroeder #cantwait #premiere #IronMan3 #6hours', sentiment=5),\n",
       " Row(id=330045051478622209, text='Pretty pumped for Iron Man 3, come on 10', sentiment=5),\n",
       " Row(id=330045054318157824, text=\"I'm going to see Iron Man 3 at SilverCity Fairview Mall Cinemas! via @CineplexMovies\", sentiment=5),\n",
       " Row(id=330045055874236416, text='Gwyneth Paltrow: \"I\\'ve Had a Great Deal of Suffering in My Life\" http://t.co/VVb1DzZJv1', sentiment=5),\n",
       " Row(id=330045057333854208, text='Iron man 3 tonight @kefoutch10', sentiment=5),\n",
       " Row(id=330045058357272576, text=\"RT @Libertho: #YaRienDePlusChiantQue Les personnes qui racontent la fin des films. Par exemple Tony Stark détruit toutes ses armures et n'e…\", sentiment=5),\n",
       " Row(id=330045060278267905, text='went to see Iron man 3 #guiltypleasure', sentiment=5),\n",
       " Row(id=330045062694191104, text='RT @hijadescarriada: No sé si estoy mojada por la lluvia, o por ver a Robert Downey Jr en Iron Man 3.', sentiment=5),\n",
       " Row(id=330045063193300994, text='RT @ffewfew: หนังสือ OK! หน้าปก robert downey jr. มีข่าวคิบอมข้างใน เจ๋งมาก พาดหัวข้อข่าวโดนจายยอีก1ดอก http://t.co/byCVr8eM4C', sentiment=5),\n",
       " Row(id=330045065676324864, text='Conan 2013.05.01 Jon Favreau http://t.co/7VOQLd700B', sentiment=5),\n",
       " Row(id=330045068394246146, text='Iron Man 3 opens at 9pm tonight...are you ready for Mandarin?', sentiment=5),\n",
       " Row(id=330045074203353089, text='Robert Jr. Downey - Iron man 3 ♥_♥', sentiment=5),\n",
       " Row(id=330045079320424450, text='one more day till iron man 3 comes out. im to excited for this movie lol. and next week the great gatsby !', sentiment=5),\n",
       " Row(id=330045081023303680, text='guy on phone at work, \"hey man, Iron Man 3 tonight. wanna go? ......WHAT? ...seriously, Iron Man 3, man.\"', sentiment=5),\n",
       " Row(id=330045083057537024, text='Iron Man 3 with the lads @jesswalshh @dan_beynon #abouttime', sentiment=5),\n",
       " Row(id=330045086719148032, text='RT @Mish_lev: Iron man 3 tonight 👍', sentiment=5),\n",
       " Row(id=330045088111685633, text=\"Why did Shane say Elton look like black  n' mild today!! 😂😂😂😂\", sentiment=5),\n",
       " Row(id=330045094910631938, text='RT @donghae861015: Tony stark ^^ \\n\\nWe have to meet !', sentiment=5),\n",
       " Row(id=330045099536969728, text='IRON MAN 3 TONIGHT 🙌🙌 GOING RIGHT AFTER WORK WITH MY NIGGAZ !', sentiment=5),\n",
       " Row(id=330045100367417347, text=\"Iron man 3 don't mind if I do\", sentiment=5),\n",
       " Row(id=330045102078709760, text='Iron man 3 \\\\o/', sentiment=5),\n",
       " Row(id=330045105295728640, text='RT @latimes: \"Iron Man 3\" crushes overseas, but can it topple \"Avengers\"? http://t.co/nTSWzJoWJ5', sentiment=5),\n",
       " Row(id=330045105484492800, text='So pumped to see Iron Man 3 tonight! #looksepic #robertdowneyjr 😍', sentiment=5),\n",
       " Row(id=330045107573235712, text='RT @Thee_Q: “@TheAVClub: Iron Man 3 desperately aims to please, but falls short http://t.co/RDOaAyQjTZ” @AkwabaAnn', sentiment=5),\n",
       " Row(id=330045107627757568, text='¿Soy la única que se decepcionó al ver que Justin no salía en Iron Man 3 y que ahora se pregunta por qué se había tintado el pelo?', sentiment=5),\n",
       " Row(id=330045108726677504, text='“@_jelleHub: @RJG__ welke film ga je?” Iron man 3', sentiment=5),\n",
       " Row(id=330045109070610432, text='RT @iTunesMusic: Every super hero needs theme music. Listen how @ImagineDragons @neontrees and more take on Iron Man 3. http://t.co/wvJeiQE…', sentiment=5),\n",
       " Row(id=330045108403707904, text='RT @the_ironsheik: What movie better Iron Man 3 or Go Fuck Yourself 2?', sentiment=5),\n",
       " Row(id=330045113428484098, text=\"Can't believe the missus went to see Iron Man 3 without me! #thecheek #wtf\", sentiment=5),\n",
       " Row(id=330045112866463745, text='Marvel Select Nightcrawler Action Figure Bamfs into Comic Shops! #comics #xmen http://t.co/I61qEuWCzf', sentiment=5),\n",
       " Row(id=330045116326739970, text=\"Marriage: Gwyneth Paltrow's raunchy marriage advice: Gwyneth Paltrow has been praised as an amazing ... http://t.co/X86WZt5qIF #Marriage\", sentiment=5),\n",
       " Row(id=330045116578402304, text='Gonna watch Iron Man 3 today!! Do you even understand my excitement right now #ijustpeedalittle #8hoursmore', sentiment=5),\n",
       " Row(id=330045118344208384, text='Who wants to watch Iron Man 3 with me tomorrow? Any takers? No? Okay.', sentiment=5),\n",
       " Row(id=330045118675562496, text='#Iron man 3. Lo masss B-)', sentiment=5),\n",
       " Row(id=330045119917072387, text='Work, hoop, turn up, then iron man 3. #TurnUpThursdays', sentiment=5),\n",
       " Row(id=330045121091485696, text='Skrtel and Agger are going to be in iron man 3 on the tv lol', sentiment=5),\n",
       " Row(id=330045122794360832, text='RT @Mish_lev: Iron man 3 tonight 👍', sentiment=5),\n",
       " Row(id=330045123104755712, text='#TV The \\'Downton Abbey\\' &amp; \\'Iron Man 3\\' Connection: Even super heroes love \"Downton Abbe... http://t.co/lFmR5arQEn http://t.co/Iz5pQxE2EA', sentiment=5),\n",
       " Row(id=330045123826176001, text='Iron man 3 increible', sentiment=5),\n",
       " Row(id=330045124925083649, text='#TV The \\'Downton Abbey\\' &amp; \\'Iron Man 3\\' Connection: Even super heroes love \"Downton Abbe... http://t.co/T37UgxkJ8X http://t.co/WIeh9hBl5C', sentiment=5),\n",
       " Row(id=330045128444112898, text='but on a very serious note, NO ONE WILL COME SEE IRON MAN 3 WITH ME&lt;/3', sentiment=5),\n",
       " Row(id=330045129912090624, text='A ver Iron Man 3', sentiment=5),\n",
       " Row(id=330045131409465344, text='RT @Court_becooolin: Tryna go see Iron Man 3 tomorrow, I know that bit gone be good', sentiment=5),\n",
       " Row(id=330045132449652738, text='So iron man 3 this weekend :) ?', sentiment=5),\n",
       " Row(id=330045133682786304, text=\"I. DIED. RT @KoolProducerGuy: “@_amburgerrr: Who's taking me to see Iron Man 3!??”&lt;&lt; cc: Will\", sentiment=5),\n",
       " Row(id=330045134714589184, text='“@ojosnebulosos: Cineee a ir a ver Iron Man 3 👌”👏👏👏👏👏👏 gracias por la invitacion 👌😂', sentiment=5),\n",
       " Row(id=330045137906442240, text='Vermakelijke Thaise \"Sweded\"-trailer ´Iron Man 3´: Regelmatig duiken er fanmade \"remakes\" op van trailer... http://t.co/uY8HVYxeU8 #Film', sentiment=5),\n",
       " Row(id=330045138237812736, text='Who alls going out to see Iron Man 3 tonight?', sentiment=5),\n",
       " Row(id=330045140049727489, text='Just came back from Iron man 3 ,was nice*-* ! Not the best of the three though', sentiment=5),\n",
       " Row(id=330045146580267009, text='@TheScreenTeam i just can see the Iron Man 3 when i finished my classes, here in Guarda, Portugal', sentiment=5),\n",
       " Row(id=330045150283825153, text='RT @Zikrina90: Iron Man 3 with @dian_avilla 🎥 (at @cinema21) — http://t.co/X2oqLwTNBB', sentiment=5),\n",
       " Row(id=330045151508570113, text='So Iron Man 3 was released earlier in SA than in the USA. Now thats a first. We usually get the old stuff phela.', sentiment=5),\n",
       " Row(id=330045154411020289, text=\"Can't wait to see iron man 3 tomorrow, it's gonna be so good 😎\", sentiment=5),\n",
       " Row(id=330045157670002689, text='RT @MondoNews: IRON MAN 3 On Sale Info! http://t.co/z499FcQpV3', sentiment=5),\n",
       " Row(id=330045158139756544, text='@IezanShairazy dlm iron meng mandarin tu mmg musuh dia plg no 1 la, musuh kuat dia, so ingtkn iron man 3 ni psl mandarin, hmm kcwa sggh', sentiment=5),\n",
       " Row(id=330045158152351746, text=\"Lmaoooo RT @DollyFaze: I should Tweet about Iron Man 3 and Ruin the movie like y'all Ruined Batman Dark Knight Rises for me\", sentiment=5),\n",
       " Row(id=330045159918141440, text='RT @brandon_tighe: I want to see iron man 3 tonight', sentiment=5),\n",
       " Row(id=330045159863615488, text='RT @TheDMcDowell: IRON MAN 3 TONIGHT', sentiment=5),\n",
       " Row(id=330045162577354752, text='\"Albert Einstein setahun hanya tidur 3 jam\"\\nby Tony Stark - IRON MAN 3.', sentiment=5),\n",
       " Row(id=330045165098127361, text='Me and @UncleDonny07 just picked up are iron man 3 tickets for tonight', sentiment=5),\n",
       " Row(id=330045167979610112, text='RT @Cara_Kuiken: Ek wil Iron Man 3 kyk. So graag.', sentiment=5),\n",
       " Row(id=330045168638128128, text='@ChiHNgo stop complaining and lets go see Iron Man 3 :D', sentiment=5),\n",
       " Row(id=330045172928884738, text='What was the last movie you watched? Did you like it? — just back from iron man 3 and fuckin loved it http://t.co/uDpUCVZOOP', sentiment=5),\n",
       " Row(id=330045173906145280, text='RT @SuperHeroes5k: Use this discount code to get $3 off tickets to Iron Man 3 at the Esquire IMAX: superhero (case sensitive)!    http://t.…', sentiment=5),\n",
       " Row(id=330045175353196545, text=\"“@Shelbybriggs95: #MovieNightThursday \\nIRON MAN 3 @ 9:30😍❤💛 \\nI'm so excited!!😱😜”\", sentiment=5),\n",
       " Row(id=330045176712159232, text='Iron Man 3 premiere tonight 😄 hit me up if you want to come', sentiment=5),\n",
       " Row(id=330045178142400513, text=\"I wanna see iron man 3 tonight #who'sGojng\", sentiment=5),\n",
       " Row(id=330045178368884736, text=\"Don Cheadle: The Iron Man Suit Is 'A Torture Chamber' http://t.co/J487nPkB2j via @HuffPostEnt\", sentiment=5),\n",
       " Row(id=330045180604452866, text=\"I am going to take myself on a date to see Iron Man 3 because I'm alone forever. 👍\", sentiment=5),\n",
       " Row(id=330045185813803008, text='VOY A VER IRON MAN 3 MAÑANA #finally', sentiment=5),\n",
       " Row(id=330045189961957376, text=\"Last Bunch Of TV Spots For 'Iron Man 3'  http://t.co/I1PBt48Lt4\", sentiment=5),\n",
       " Row(id=330045192382074880, text='Iron Man 3 at Movie Tavern Williamsburg starts tonight... Cinco De Mayo Celebration - ALL WEEKEND LONG - at Plaza... http://t.co/wG7ncrEGwI', sentiment=5),\n",
       " Row(id=330045194374369280, text='Anyone going to see Iron man 3 tonight?', sentiment=5),\n",
       " Row(id=330045194873483265, text='RT @LauraLoveJustB: ¿Soy la única que se decepcionó al ver que Justin no salía en Iron Man 3 y que ahora se pregunta por qué se había tinta…', sentiment=5),\n",
       " Row(id=330045195401957376, text='RT @AdventureeTimee: Iron man 3 I gotta see it', sentiment=5),\n",
       " Row(id=330045195804631040, text='Iron man 3 tomorrow 😁', sentiment=5),\n",
       " Row(id=330045197536870400, text=\"RT @boxofficemojo: With the help of May Day and an opening day record in China, 'Iron Man 3' flew past $300 million overseas yesterday: htt…\", sentiment=5),\n",
       " Row(id=330045197792710656, text='RT @KnownAsBask: Iron Man 3 Original Artwork by BASK @1xRUN http://t.co/0GCHvknaTh', sentiment=5),\n",
       " Row(id=330045197742391297, text='RT @sethmac40: Iron man 3 tonight @kefoutch10', sentiment=5),\n",
       " Row(id=330045198149230592, text='\"Iron Man 3\"- кино Arena, гр. Плевен. Epic movie! Епичен край на трилогията! :D', sentiment=5),\n",
       " Row(id=330045203803168768, text='New 3D Trailer for STAR TREK INTO DARKNESS: Paramount Pictures has released a new 3D trailer for director J.J.... http://t.co/1yiA6iKSmH', sentiment=5),\n",
       " Row(id=330045203522142208, text=\"Iron Man fan? Check out the inspiration for Tony Stark's home from your friends at Coldwell Banker! http://t.co/iGvtEJIS2D\", sentiment=5),\n",
       " Row(id=330045206713991168, text='I am so pumped for Iron Man 3 tomorrow night. \\n#marvel #geek', sentiment=5),\n",
       " Row(id=330045207582240769, text=\"'Iron Man 3' appeared on Wednesday 1 at the 16th place in the Top20 of Munich's Trending Topics: http://t.co/2zQioaytfj\", sentiment=5),\n",
       " Row(id=330045208001650689, text='@Deshii_o6 yuhh! Iron man 3! It was awesome mannn! o___o Watch it :3', sentiment=5),\n",
       " Row(id=330045208660164608, text='Iron Man 3 premiers tonight… really wanna see that shit!', sentiment=5),\n",
       " Row(id=330045210925076481, text='I want to go to the premiere of Iron Man 3 but I have to get this term paper due tomorrow done before midnight #ChallengeAccepted', sentiment=5),\n",
       " Row(id=330045213974347776, text='Ya cenaita :$ , a ver Iron Man 3 !!!', sentiment=5),\n",
       " Row(id=330045214116941824, text='RT @Filmzlap: ใครอยากดู Iron Man 3 ไปอุดหนุนสกาล่า และลิโด้กันเยอะๆนะ เมื่อวานไปคนไม่เยอะเท่าไหร่ ที่ยังเหลือ ดีกว่าไปเบียดกันซื้อตั๋วในโรง…', sentiment=5),\n",
       " Row(id=330045215899521027, text='Iron Man 3 tonight!', sentiment=5),\n",
       " Row(id=330045219267551233, text='\"@kishanchagan: @ShaahidKajee @nabyy03 @Laylah_Fay @Razana_Adams @Muapples @fatimahz_khan @ambre_04 Sushi and some Iron Man 3?\" I\\'m in! :D', sentiment=5),\n",
       " Row(id=330045222312632321, text=\"I've waited for over a year for tonight.. IRON MAN 3 NIGHT\", sentiment=5),\n",
       " Row(id=330045223549956096, text='Hoping @DaHitman4 can stay awake so we can see Iron Man 3 tonight at midnight! ☺☺☺ #wakeup', sentiment=5),\n",
       " Row(id=330045225093447681, text='RT @ABBenChile: Este es el IRB 120, el robot más pequeño de ABB, con el que participó en Iron Man 3 http://t.co/gRabc1SV7i', sentiment=5),\n",
       " Row(id=330045227639377921, text=\"Iron Man 3 Tonight! I've Been Waiting A Long Time.\", sentiment=5),\n",
       " Row(id=330045231045160960, text='@DominicanBeast IRON MAN 3 is going to be fucking dope!!!!', sentiment=5),\n",
       " Row(id=330045233335259136, text='Был на премьере Iron Man 3!! ЮХуууу, порадовал фильм!))))))))', sentiment=5),\n",
       " Row(id=330045233838579712, text='Hopefully Iron Man 3 this weekend!!', sentiment=5),\n",
       " Row(id=330045233796640768, text='Iron man 3 is echt een geweldige film #love #marvel', sentiment=5),\n",
       " Row(id=330045234027315203, text=\"@Sonia_13Mhz ca se voit que tu n'as pas vu iron man 3\", sentiment=5),\n",
       " Row(id=330045234207657984, text='AVENGERS X-MEN UTOPIA Marvel Comics French Ebook Cbr: AVENGERS X-MEN UTOPIA Marvel Comics French Ebook Cbr Sce... http://t.co/x8EZOk0EQm', sentiment=5),\n",
       " Row(id=330045235587600384, text='Oh we going out tonight? NOOOOO iron man 3 son!!! Get familiar!!', sentiment=5),\n",
       " Row(id=330045238578126849, text='RT @RLPoloMike: Iron Man 3, CFA Buffet, Genocide, and Cinco De Mayo this weekend', sentiment=5),\n",
       " Row(id=330045241593835521, text='RT @TheAVClub: Iron Man 3 desperately aims to please, but falls short http://t.co/vsn0YtruOd', sentiment=5),\n",
       " Row(id=330045242533351425, text='Special edition 3d glasses for Iron Man 3 http://t.co/ycUW4hjFuG', sentiment=5),\n",
       " Row(id=330045242789212160, text='“@TashaTMusic: Just saw #ironman3 did it meet up to the hype ... Erm not so sure” you say I watch iron man 3 or the new scary movie?', sentiment=5),\n",
       " Row(id=330045245725212673, text=\"RT @Libertho: #YaRienDePlusChiantQue Les personnes qui racontent la fin des films. Par exemple Tony Stark détruit toutes ses armures et n'e…\", sentiment=5),\n",
       " Row(id=330045245452595200, text='I FORGOT ABOUT IRON MAN 3', sentiment=5),\n",
       " Row(id=330045247818194944, text='Iron Man 3 midnight premier tonight? I THINK SO! 😁 oOoOo!', sentiment=5),\n",
       " Row(id=330045248212459520, text='Iron man 3 coming out tomorrow... But I can only see movies on Thursdays at 40th street lol', sentiment=5),\n",
       " Row(id=330045253220433920, text='Beyonce excited for iron man 3 to come out😁😁', sentiment=5),\n",
       " Row(id=330045255791546368, text=\"@Shannon_Palmer7 hello!!!!!! It's iron man 3 , DUHHHH\", sentiment=5),\n",
       " Row(id=330045259985854464, text='.@JGHorn is on box office duty this weekend, and he\\'s projecting \"Iron Man 3\" will debut with $170m -- or more: http://t.co/01D4XgWUCz', sentiment=5),\n",
       " Row(id=330045261852315648, text='RT @Trevornoah: Like The Artist? RT @Jonathan_Witt: Iron Man 3. No words.', sentiment=5),\n",
       " Row(id=330045265664933888, text='@MarioAlegre Mario no dijiste si Robert Downey jr. volvia a otro pelicula de #Ironman', sentiment=5),\n",
       " Row(id=330045267258769408, text=\"Went online to check Roger Ebert's review of Iron Man 3, ended up being slightly depressed. #RIP\", sentiment=5),\n",
       " Row(id=330045268370268161, text='I wanna see iron man 3 !', sentiment=5),\n",
       " Row(id=330045268961660928, text='RT @jasminejonass: Who wants to go see iron man 3', sentiment=5),\n",
       " Row(id=330045268995211264, text='Iron man 3 with my honey 😚❤', sentiment=5),\n",
       " Row(id=330045271687979008, text='Iron Man 3 predictions: RDJr will be smug, Paltrow will be 1-dimensional, and stuff will blow up. Digitally.', sentiment=5),\n",
       " Row(id=330045272291942400, text='“Can You Dig It (Iron Man 3 Main Titles)” by Brian Tyler is my new jam.  ♫ http://t.co/4ndaGUA4Lx', sentiment=5),\n",
       " Row(id=330045272610725888, text='Why Iron Man 3 Director Shane Black Was Once Hollywood’s Hottest Screenwriter http://t.co/LuLLzkZXIc @vulture', sentiment=5),\n",
       " Row(id=330045273235660801, text='RT @NiallSpanish: Liam y Louis estuvieron con Guy Hilton, Andy y Henry la noche del 24/Abril y fueron al cine a ver Iron Man 3, en Londres …', sentiment=5),\n",
       " Row(id=330045274716262401, text=\"IRON MAN 3 Tonight at 9pm!!!\\n\\nWe still have tickets available! This is a premiere you can't miss!\", sentiment=5),\n",
       " Row(id=330045277337706496, text=\"Drop into Big Daddy's tonight before the debut showings of Iron Man 3 at iPic! \\nhttps://t.co/UEMxaWLDzR\", sentiment=5),\n",
       " Row(id=330045278147203072, text=\"Iron Man 3 tonight. Hopefully it's badassness with wash away the stink of the Canucks.\", sentiment=5),\n",
       " Row(id=330045278168174592, text=\"Here's a fun look at Shane Black's previous film work &amp; now Iron Man 3.  http://t.co/HCTPDehztD\", sentiment=5),\n",
       " Row(id=330045279086718976, text='RT @medaBookMan: “No matter how your heart is grieving, if you keep on believing, the dreams that you wish will come true” - Walt Disney Co…', sentiment=5),\n",
       " Row(id=330045285764050945, text='iron man 3 es una castaña...con lo bien que pintaba ...la historia la podría haber escrito mejor estando de borrachera ,solo digo eso', sentiment=5),\n",
       " Row(id=330045286602903552, text='“@AlonzoAdorno: “@ojosnebulosos: Cineee a ir a ver Iron Man 3 👌”👏👏👏👏👏👏 gracias por la invitacion 👌😂” jajaja bobo es con gente de mi salon', sentiment=5),\n",
       " Row(id=330045289522163712, text='someone come see iron man 3 midnight premier w me', sentiment=5),\n",
       " Row(id=330045290797228033, text='Iron Man 3 looks amazinggggg !!', sentiment=5),\n",
       " Row(id=330045291791257600, text=\"Iron Man 3. Can't wait http://t.co/a6G8aoGatd #bigred #marvel\", sentiment=5),\n",
       " Row(id=330045296916713473, text=\"Iron man 3 is showing at 9 tonight. Who's down?\", sentiment=5),\n",
       " Row(id=330045299827560448, text='IRON MAN 3 , buen 3D pero.... Me quedo con la 2...', sentiment=5),\n",
       " Row(id=330045301454946304, text='aint shit but iron man 3 wit sum biddies tonight', sentiment=5),\n",
       " Row(id=330045301819834370, text='The Monitor Pumps Some Iron | Underwire | http://t.co/EDqbqpIEca http://t.co/TyqVtGrEHH', sentiment=5),\n",
       " Row(id=330045303430455296, text='@DaniPerezSL iron man 3 👌', sentiment=5),\n",
       " Row(id=330045310183288832, text=\"I'm not gonna lie, I'm buzzing to watch iron man 3 tomorrow\", sentiment=5),\n",
       " Row(id=330045311324143616, text='Parece que el señor Tony Stark está de moda hasta en los jueguicos http://t.co/3QC0gSoj6T', sentiment=5),\n",
       " Row(id=330045313123500032, text=\"RT @Libertho: #YaRienDePlusChiantQue Les personnes qui racontent la fin des films. Par exemple Tony Stark détruit toutes ses armures et n'e…\", sentiment=5),\n",
       " Row(id=330045314230808577, text=\"“@thatdancerr__: Why did Shane say Elton look like black  n' mild today!! 😂😂😂😂” 😩😩😂😂\", sentiment=5),\n",
       " Row(id=330045315677831169, text='A partir de ahora Robert Downey Jr. es EL HOMBRE según @Clarich_', sentiment=5),\n",
       " Row(id=330045316529258497, text='The Great Gatsby AND Iron Man 3... I will be taking a break from my busy schedule this weekend to see both! #ohmygosh #movienerd', sentiment=5),\n",
       " Row(id=330045322057363456, text='Iron man 3 was a 10!!', sentiment=5),\n",
       " Row(id=330045322615193600, text='RT @captainsierra: *YELLS FROM THE ROOFTOPS* MARK RUFFALO IS GUNNA BE IN IRON MAN 3 *RIPS OFF SHIRT* SCIENCE BROS', sentiment=5),\n",
       " Row(id=330045325903536128, text='RT @Cecily_RCS: Solo se puede describir la peli de Iron Man 3 con lenguaje emoción #Dato #TweerSerio', sentiment=5),\n",
       " Row(id=330045326167781376, text='I wanna see Iron Man 3 so bad😁', sentiment=5),\n",
       " Row(id=330045327312834561, text='BASK, our upcoming artist in July, commissions work for Robert Downey JR. in IRON MAN 3! His show is titled... http://t.co/gupiIiR75V', sentiment=5),\n",
       " Row(id=330045328231395328, text=\"Yarın Iron Man 3'ü mü izlesem emin olamadım.\", sentiment=5),\n",
       " Row(id=330045328621436930, text=\"saggy and jew — lmao\\nal is hilarious but supports a bad football team and hasn't seen iron man 3 yet\\nste used to... http://t.co/NDNxr9R0n9\", sentiment=5),\n",
       " Row(id=330045332312424449, text='“@cheycmb: i have a crush on Tony Stark and all his Audis. #IronMan” me too 😍', sentiment=5),\n",
       " Row(id=330045333402943489, text='Robert Downey Jr. is sexy af 😍', sentiment=5),\n",
       " Row(id=330045334522843136, text='iron man 3 was AWESOME', sentiment=5),\n",
       " Row(id=330045335227465729, text='Iron man 3 alla vamos', sentiment=5),\n",
       " Row(id=330045337962172416, text='Parody. IRON MAN 3 Trailer - Thai sweded by FEDFE: http://t.co/sW20lcRZTn via @youtube', sentiment=5),\n",
       " Row(id=330045338641629185, text='&amp;#x2018;Iron Man 3&amp;#x2032; Crosses $300 Million Overseas, Shatters Chinese Record - http://t.co/k5UDKYTb0Q', sentiment=5),\n",
       " Row(id=330045339027525632, text='@Jake_Stark1129 come see Iron man 3 with me D:', sentiment=5),\n",
       " Row(id=330045339493081089, text='RT @flogallardo: I NEED TO SEE IRON MAN 3 TONIGHT.', sentiment=5),\n",
       " Row(id=330045342869516289, text='Damn Iron Man 3 already made $300 million overseas #holyshit', sentiment=5),\n",
       " Row(id=330045345679695872, text='Private screening of Iron Man 3 tonight! Woot! :-)', sentiment=5),\n",
       " Row(id=330045348909305856, text='@miguelangelopes Iron Man 3.... Le damos un 7', sentiment=5),\n",
       " Row(id=330045351602044929, text='Iron Man 3 3D http://t.co/dbcnLElaQE via @sharethis #ironman3', sentiment=5),\n",
       " Row(id=330045352168259584, text='Exam revision atau iron man 3? Tough choice', sentiment=5),\n",
       " Row(id=330045354902958081, text='Dr. House, Tony Stark, Sheldon Cooper, Captain Jack Sparrow, and Madea get into an argument.  Who wins?', sentiment=5),\n",
       " Row(id=330045357557968896, text='‘Iron Man 3’ review: Robert Downey Jr. becomes the latest lethal weapon http://t.co/a2KWsrhpkc', sentiment=5),\n",
       " Row(id=330045361177649152, text=\"Un peu long. Mais Iron Man 3 est tout de même un bon film ! J'ai adoré. Bon, maintenant, Mc Do.\", sentiment=5),\n",
       " Row(id=330045364960894977, text='RT @hillaryxcore: Headed to the Iron Man Marathon at the Drafthouse dressed as Bunnysuit Iron Man! &lt;3 http://t.co/DXTKOXSR5T', sentiment=5),\n",
       " Row(id=330045364826693632, text='I Wanna See Iron Man 3 😩', sentiment=5),\n",
       " Row(id=330045365816532993, text=\"RT @Shawn_Cotton RT @_amburgerrr Who's taking me to see Iron Man 3!?? // some lightskin nigga with blue or green eyes.-- you puttin me down?\", sentiment=5),\n",
       " Row(id=330045376402960384, text='@Inesbka_ Iron Man 3 :)', sentiment=5),\n",
       " Row(id=330045378227474432, text='RT @AyeBrannMuffin: Iron Man 3 tonight 😁', sentiment=5),\n",
       " Row(id=330045378391048193, text='I need someone to go see Iron Man 3 with me this weekend..', sentiment=5),\n",
       " Row(id=330045379309604865, text='RT @EmmyCic: I hope in the middle of the iron man movie it just turns into a daft punk music video w/ tony stark rapping', sentiment=5),\n",
       " Row(id=330045380777611264, text='RT @BlessedDelgado: Iron man 3?  #YesLAWD', sentiment=5),\n",
       " Row(id=330045381058650113, text='Iron Man 3 tonight and I will need all my strength to not groan when Gwyneth Paltrow is onscreen. #iwontmakeit', sentiment=5),\n",
       " Row(id=330045386867752960, text='Hot Off the Truck: Iron Man 3 Marvel Legends Action Figures Series 1!!! http://t.co/98ulcNWbQz http://t.co/r2HHuCJ2sw', sentiment=5),\n",
       " Row(id=330045391741517824, text='@Inesbka_ Iron Man 3', sentiment=5),\n",
       " Row(id=330045393750597632, text='RT @DennisCarrizo: IRON MAN 3 PREMIERE TONIGHT!!', sentiment=5),\n",
       " Row(id=330045402852229120, text=\"I can't see Iron Man 3 until Sunday. DAMMIT NYSSMA.\", sentiment=5),\n",
       " Row(id=330045404450271232, text=\"Iron Man 3 is almost here... Can't wait!\", sentiment=5),\n",
       " Row(id=330045408552304641, text='i wana watch iron man 3', sentiment=5),\n",
       " Row(id=330045409890283521, text='In other news Iron Man 3 today at 9:30 :D &lt;33333', sentiment=5),\n",
       " Row(id=330045415821033473, text='Me ofrecieron una taquilla pa ver Iron Man 3 &amp; mi mai me dijo: Tienes trabajo que hacer.', sentiment=5),\n",
       " Row(id=330045417888821249, text='RT @LauraLoveJustB: ¿Soy la única que se decepcionó al ver que Justin no salía en Iron Man 3 y que ahora se pregunta por qué se había tinta…', sentiment=5),\n",
       " Row(id=330045418778009600, text='RT @PJSHIRDAN: Iron Man 3 tomorrow  \\n#NuffSaid', sentiment=5),\n",
       " Row(id=330045421424615425, text='CHOI!!! I miss! \"@gdcinemas: Lots of free food at the Iron Man 3 premiere at GDC Lagos tonight! http://t.co/7LUO4ej5fs\"', sentiment=5),\n",
       " Row(id=330045422779392000, text=\"Just saw Iron Man 3... I'm done.\", sentiment=5),\n",
       " Row(id=330045423433691137, text='RT @HowardStern: How has Ralph seen \"Iron Man 3\" twice before I\\'ve seen it once??', sentiment=5),\n",
       " Row(id=330045424041865216, text='@TheGreenman919 Yeah, gonna go see Iron Man 3 during the weekend', sentiment=5),\n",
       " Row(id=330045426768162816, text='I wish I could go to the premiere of iron man 3 tonight:(', sentiment=5),\n",
       " Row(id=330045426499731456, text='Iron man 3 tonight. 😁', sentiment=5),\n",
       " Row(id=330045431335776256, text='How am I going to fit Iron Man 3 into my weekend.', sentiment=5),\n",
       " Row(id=330045432543727616, text=\"Follow @cultboxtv and RT for a chance to win one of 3 new 'Iron Man' boxsets - Info: http://t.co/svaq3UPvdx #IMAACB\", sentiment=5),\n",
       " Row(id=330045434691203073, text=\"Live : http://t.co/DBI7abgtoy Avant d'aller Voir Iron Man 3\", sentiment=5),\n",
       " Row(id=330045437547511808, text='RT @KnownAsBask: Iron Man 3 - Box Office Edition Limited Print by BASK @1xRUN http://t.co/qq1rOo02eH', sentiment=5),\n",
       " Row(id=330045437920825347, text='Es que mis amigas y yo estamos obsesionadas con él, todo la mañana pasamos hablando de él y de \"Iron man 3\" asdhfksl.', sentiment=5),\n",
       " Row(id=330045439720169472, text='RT @IreLimon: A partir de ahora Robert Downey Jr. es EL HOMBRE según @Clarich_', sentiment=5),\n",
       " Row(id=330045445554458624, text=\"- J'etait en train de regarder Iron man 3 mais vasi jcomprend rien et j'ai jamais rien compris dans iron man .\", sentiment=5),\n",
       " Row(id=330045446556889088, text='Who tryna go to Iron Man 3 tonight?', sentiment=5),\n",
       " Row(id=330045448838598656, text='Watching iron man 3 tonight! 👏🎉😄', sentiment=5),\n",
       " Row(id=330045449975250944, text='Tony Stark better return', sentiment=5),\n",
       " Row(id=330045453196476416, text=\"@thegrampus why isn't Hawkeye Pierce  Tony Stark (&amp; Don Draper's) physician ?\", sentiment=5),\n",
       " Row(id=330045453225836544, text='RT @LauraLoveJustB: ¿Soy la única que se decepcionó al ver que Justin no salía en Iron Man 3 y que ahora se pregunta por qué se había tinta…', sentiment=5),\n",
       " Row(id=330045456187023361, text=\"Iron Man 3 is a must watch! Words can't describe it\", sentiment=5),\n",
       " Row(id=330045459928338433, text=\"C'è una mia amica che è pazza, va al cinema a vedere gli stessi film un sacco di volte, tipo Iron Man 3 l'ha già visto sette volte. XD\", sentiment=5),\n",
       " Row(id=330045463040516096, text=\"Can't wait to see Iron Man 3 tonight! @Marvel\", sentiment=5),\n",
       " Row(id=330045467524206592, text='RT @pattonoswalt: IRON MAN 3 just blew my ass apart and hillbilly-fucked it full of awesome.*. (*usable poster quote)', sentiment=5),\n",
       " Row(id=330045468811857920, text='Iron man 3 &gt;&gt;&gt;&gt;', sentiment=5),\n",
       " Row(id=330045468740558849, text='Just bought my iron man 3 ticket, ya boy is ready', sentiment=5),\n",
       " Row(id=330045469084512257, text='I keep seeing tweets about Iron Man 3 &amp; I can\\'t help but think \"Mwuahahaha, I already saw it, suckas!\" Lol.', sentiment=5),\n",
       " Row(id=330045469621379073, text='Tony Stark sendo Tony Stark &lt;3', sentiment=5),\n",
       " Row(id=330045470808350721, text='RT @HuffPostTV: The #DowntonAbbey &amp; \"Iron Man 3\" connection http://t.co/FBXmFxdAPL', sentiment=5),\n",
       " Row(id=330045471177445376, text='Iron Man 3 hits theatres tomorrow! Have you purchased your tickets yet?  http://t.co/P7rmwb0Jwt\\n http://t.co/4kzoommf4W', sentiment=5),\n",
       " Row(id=330045469738795008, text='Enter to win a $50 Cafe Press gift card giveaway via @debthompson http://t.co/UerEjCtSC2', sentiment=5),\n",
       " Row(id=330045472133746688, text=\"Lmaoo i hate you! RT @_ADecentMan_ I. DIED. RT @KoolProducerGuy: “@_amburgerrr: Who's taking me to see Iron Man 3!??”&lt;&lt; cc: Will\", sentiment=5),\n",
       " Row(id=330045476902686720, text=\"@FarrahJ7 @a_alrifai1995 uuum Identity thief  or iron man 3 didn't watch dem but I think eno 7elween\", sentiment=5),\n",
       " Row(id=330045477372440576, text='RT @georgie_jb: Iron Man 3 with the lads @jesswalshh @dan_beynon #abouttime', sentiment=5),\n",
       " Row(id=330045477728944130, text='Idc someone better come w. me this weekend to go see Iron Man 3', sentiment=5),\n",
       " Row(id=330045478127431680, text='Sitting in the theater waiting for the iron man marathon to watch all 3 ironman movies and the avengers', sentiment=5),\n",
       " Row(id=330045478911741952, text='¿Alguien más se ha pillado que \"Iron Man 3\" es una película navideña?', sentiment=5),\n",
       " Row(id=330045481222811648, text='NYPost: Gwyneth Paltrow admits marriage to Chris Martin had ‘terrible times’…the first: when she realized he was the singer for Coldplay', sentiment=5),\n",
       " Row(id=330045481872924673, text='Man Robert Downey Jr. and johnny depp should have to make a movie together !!!', sentiment=5),\n",
       " Row(id=330045482204286976, text=\"IRON MAN 3 Tonight at 9pm!!!\\n\\nWe still have tickets available! This is a premiere you can't miss!\", sentiment=5),\n",
       " Row(id=330045485383561217, text='RT @Jose_Steezz: I wanna watch iron man 3 with babe!', sentiment=5),\n",
       " Row(id=330045487757545473, text='Iron Man 3 in T-almost 8 hrs', sentiment=5),\n",
       " Row(id=330045488038555648, text='Iron Man 3 comes out tonight, hopefully I can go.', sentiment=5),\n",
       " Row(id=330045491255603201, text='I wanna see Iron Man 3 tomorrow', sentiment=5),\n",
       " Row(id=330045491947655168, text='IRON MAN 3 AT MIDNIGHT TODAY', sentiment=5),\n",
       " Row(id=330045493780545536, text='IRON MAN 3 baby!!! Countdown 7 hrs @RockyNikci', sentiment=5),\n",
       " Row(id=330045498960519168, text='Iron man 3 later 😍🎥😁', sentiment=5),\n",
       " Row(id=330045500587917312, text='bluh bluh - annies-booobs: pretty deep into a hate everything funk right now. at least i’m seeing iron man 3... http://t.co/hWJAqLBx6G', sentiment=5),\n",
       " Row(id=330045501422575616, text='IRON MAN 3 DEMAIN!!!!!!!!', sentiment=5),\n",
       " Row(id=330045505121964033, text=\"Of course an ENDER'S GAME discussion becomes an IRON MAN 3 spoiler session. Be careful out there.\", sentiment=5),\n",
       " Row(id=330045522767380481, text='RT @mgroves: @jeffblankenburg SPOILER ALERT Iron Man is really Tony Stark.', sentiment=5),\n",
       " Row(id=330045524470267904, text='@jessica_shea @rachelwrites007 @clairelegrand Writing, cupcakes, and Iron Man 3!', sentiment=5),\n",
       " Row(id=330045525099442176, text='Nap, gym, food, Iron Man 3 premiere #greatday', sentiment=5),\n",
       " Row(id=330045527674732544, text='RT @HiiiPower27: Iron Man 3 in T-almost 8 hrs', sentiment=5),\n",
       " Row(id=330045530073874434, text='RT @princessjoy145: - Iron Man 3 tonight !', sentiment=5),\n",
       " Row(id=330045530682036225, text=\"Come and see iron man 3 tonight at 9:00! It's going to be awesome. Also, We now have kettle corn! And it's delicious!\", sentiment=5),\n",
       " Row(id=330045532951166977, text='Oh yea??%RT @CutieFuzz: #nw Iron man 3 :D', sentiment=5),\n",
       " Row(id=330045536566640640, text=\"😭😭😭 RT @DollyFaze: I should Tweet about Iron Man 3 and Ruin the movie like y'all Ruined Batman Dark Knight Rises for me\", sentiment=5),\n",
       " Row(id=330045539741757440, text='Bonus #NowPlaying http://t.co/Cu1nMKOhGo #BuyFireNBrimstone625 Twitter #Music Brasil #NYC #What_it_is!? Tony Stark Iron Man 3 Indonesia', sentiment=5),\n",
       " Row(id=330045539536232448, text=\"Gawker: Why Many in China Hate Iron Man 3's Chinese Version. http://t.co/P1uDvMvB6z  @dharmeshG\", sentiment=5),\n",
       " Row(id=330045540509302784, text='Didnt think it was possible but after watching Iron Man 3 I am now more in love with Robert Downey Jr than ever before. Like...ever. 😍😍👨', sentiment=5),\n",
       " Row(id=330045542870679552, text='#ironman3 Que buena pelicula. Recomendada!!!! Robert downey jr.  Gran actor y perfecto para ese papel.', sentiment=5),\n",
       " Row(id=330045543743123456, text='No tengo clases mañana wooot! Para el Cine a ver Iron Man 3!', sentiment=5),\n",
       " Row(id=330045545831862272, text='RT @DarlingBrock: Your move @PreViewedCinema “@the_ironsheik: What movie better Iron Man 3 or Go Fuck Yourself 2?”', sentiment=5),\n",
       " Row(id=330045546167431168, text='Samedi je vais voir Iron-man 3 au cinéma *-*', sentiment=5),\n",
       " Row(id=330045547824168960, text='my mum\\'s facebook status is \"Just seen iron man 3, Robert Downey jr is so hot I must say!\" and i\\'m not sure if i should laugh or cry', sentiment=5),\n",
       " Row(id=330045548675624960, text='Iron man 3 Friday!', sentiment=5),\n",
       " Row(id=330045548952449024, text='Na, schon erste Anzeichen vorhanden?I am watching Iron Man 3; Ramsgate, Kent, Ja, nicht, woher das voll außer Kontrolle.', sentiment=5),\n",
       " Row(id=330045550755971072, text='I am torn between watching Iron Man 3 or not tomorrow. I have read some very disturbing reviews on imdb. The viewers basically destroyed it.', sentiment=5),\n",
       " Row(id=330045553125761028, text='RT @Jose_Steezz: I wanna watch iron man 3 with babe!', sentiment=5),\n",
       " Row(id=330045553926885376, text='I wanna go 👀 Iron Man 3 but I refuse to go alone 🙅', sentiment=5),\n",
       " Row(id=330045556682534914, text='Iron Man 3 oli kyllä aika jees leffa. :P', sentiment=5),\n",
       " Row(id=330045557995347968, text='Iron Man 3 was cool and all (where action scenes were involved) but other than that I’m not impressed. Not even as witty as it used to be.', sentiment=5),\n",
       " Row(id=330045558179897345, text='Dmain soirée cinoche : Les Profs et Iron Man 3 en 3D ;) #Amazing', sentiment=5),\n",
       " Row(id=330045559639515136, text='RT @the_ironsheik: What movie better Iron Man 3 or Go Fuck Yourself 2?', sentiment=5),\n",
       " Row(id=330045571085791232, text='Gona go see iron-man 3 the love of my life!!!! And with the homeboi and his girl too 😁😁 double date!!!', sentiment=5),\n",
       " Row(id=330045572209844225, text='Iron Man 3 will be the high light of my day @JesseMotes @brettybananas', sentiment=5),\n",
       " Row(id=330045579629559808, text=\"I'm thinking food, drinks, &amp; iron man 3\", sentiment=5),\n",
       " Row(id=330045586382401538, text='RT @EmmyCic: I hope in the middle of the iron man movie it just turns into a daft punk music video w/ tony stark rapping', sentiment=5),\n",
       " Row(id=330045586655027202, text='ow yea!! I gotta watch Iron man 3 !! :) :)', sentiment=5),\n",
       " Row(id=330045589398110208, text='RT @LizGimnez: No les quiero arruinar la pelicula Iron man 3 pero al final los trabajadores del cine abren la puerta y la gente sale.', sentiment=5),\n",
       " Row(id=330045591335874560, text='RT @SojiKnows: Iron Man 3 released in Japan in 4D? Fuckin hate Japan... They get DBZ movies &amp; 4D shit... We ... http://t.co/EUkhVc2yTb', sentiment=5),\n",
       " Row(id=330045592006979584, text='Playing TONIGHT with a special 9PM screening...IRON MAN 3!! http://t.co/k1YAfWEalF', sentiment=5),\n",
       " Row(id=330045592531255296, text='Iron Man 3 headers - Please like this post if you save. http://t.co/V1EesqeoEF', sentiment=5),\n",
       " Row(id=330045592342515712, text=\"and I think it's safe to say that my 19 year old self is more excited for Iron Man 3 than my 14 year old self was for Iron Man\", sentiment=5),\n",
       " Row(id=330045598403268609, text='RT @Fresh0n3: Oh we going out tonight? NOOOOO iron man 3 son!!! Get familiar!!', sentiment=5),\n",
       " Row(id=330045599984521216, text=\"Will Tony Stark/Iron Man stop The Mandarin tonight? We'll let you know! #IronMan3\", sentiment=5),\n",
       " Row(id=330045601976827904, text='I wanna go to the midnight premiere of Iron Man 3 tonight. 😩', sentiment=5),\n",
       " Row(id=330045605541986304, text='\"I\\'d like one ticket for anything but IRON MAN 3.\" - Terrence Howard this weekend, at the box office', sentiment=5),\n",
       " Row(id=330045604921229312, text='RT @Jose_Steezz: I wanna watch iron man 3 with babe!', sentiment=5),\n",
       " Row(id=330045607005790209, text=\"Oh sure... He's a good looking billionaire and also a hero with a superpowered suit made of iron, and he chooses Gwyneth Paltrow?!\", sentiment=5),\n",
       " Row(id=330045607957917696, text=\"I'm beyond excited to watch Iron Man 3 tonight!! @genners_ @raym84 @HEiDy_CAi #PlanchaMan… http://t.co/YY966wVuVT\", sentiment=5),\n",
       " Row(id=330045608553488384, text=\"J'viens de voir Iron Man 3, juste subliime, il faut a tous pris le voir !\", sentiment=5),\n",
       " Row(id=330045609224597504, text='Check out the Rick Marshall (no relation) review of Iron Man 3 for @IFC http://t.co/q9y8SEcdKA', sentiment=5),\n",
       " Row(id=330045610591936512, text='Anyone down to go see Iron Man 3 midnight premiere tonight ?', sentiment=5),\n",
       " Row(id=330045610642243585, text='Iron Man 3, what about Amazing Spider-Man 2 filming going on ROC, NY right now #spideyROC', sentiment=5),\n",
       " Row(id=330045611640500224, text='RT @Mello_Rodriquez: Mayo de ver: \\nIron Man 3, Fast &amp; Furious 6 y Hangover 3.', sentiment=5),\n",
       " Row(id=330045616442970114, text='SOMEONE COME WATCH IRON MAN 3 WITH ME TOMORROW?', sentiment=5),\n",
       " Row(id=330045617235697665, text='RT @14FrankElias: Going to watch iron man 3 tomorrow tho 😎👍', sentiment=5),\n",
       " Row(id=330045622164013056, text='@mmsueromartinez jaja que agresivo! :P También has visto Iron Man 3?', sentiment=5),\n",
       " Row(id=330045623678160896, text=\"I wish i could go see the midnight permiere of iron man 3. I'll be seeing it tomorrow night though.\", sentiment=5),\n",
       " Row(id=330045623799791616, text=\"RT @Tom_Holborn: Why haven't I seen iron man 3 yet😒\", sentiment=5),\n",
       " Row(id=330045624454107136, text='my brain knows why Tony Stark is in an Audi, but I want to see him in a Tesla. cc @elonmusk', sentiment=5),\n",
       " Row(id=330045625183903745, text=\"RT @britttnii: I don't want to study OR go to class I just wanna see Iron Man 3 #firstworldproblems\", sentiment=5),\n",
       " Row(id=330045628224778241, text='RT @ScarleyByrne: Iron Man 3 tonight woop!!', sentiment=5),\n",
       " Row(id=330045627591430144, text='@b_persinger lol okay bro dude iron man 3 this weekend text me', sentiment=5),\n",
       " Row(id=330045632003842048, text='Iron Man 3 showing signs of \"rust.\"   Hackneyed reviewer who thinks they are being clever.', sentiment=5),\n",
       " Row(id=330045635208294400, text=\"Hmmm wonder if my Wife will go for seeing Iron Man 3 on opening night seeing that it's our anniversary?\", sentiment=5),\n",
       " Row(id=330045635585785856, text='@DylanLeeCook oh shut up. iron man 3 comes out. My life is going to be hell.', sentiment=5),\n",
       " Row(id=330045636567257089, text='Just purchased tickets to see Iron Man 3 yay!', sentiment=5),\n",
       " Row(id=330045638488240128, text='Por fin Iron Man 3 con @LombarderoIrene :3', sentiment=5),\n",
       " Row(id=330045639234838528, text=\"Box Office Report: 'Iron Man 3' Breaks Records in China With Estimated $21.5 Million Opening http://t.co/ryKqLK5wk6 via @THR\", sentiment=5),\n",
       " Row(id=330045646331588608, text='One more day till Iron Man 3 👍', sentiment=5),\n",
       " Row(id=330045649544413184, text='RT @Viagrupo: ¿Ya vieron Iron Man 3? Qué les parece esta nueva versión? xD\\n\\nVer aquí --&gt; http://t.co/f7Td5Vc0Xw', sentiment=5),\n",
       " Row(id=330045650370699264, text='Iron Man 3 - The Official Game by Gameloftash  https://t.co/FXWs6mx6at', sentiment=5),\n",
       " Row(id=330045650823692288, text=\"RT @Lake8Movies: Come and see iron man 3 tonight at 9:00! It's going to be awesome. Also, We now have kettle corn! And it's delicious!\", sentiment=5),\n",
       " Row(id=330045650832080896, text=\"Can't wait to see iron man 3 tomorrow !!\", sentiment=5),\n",
       " Row(id=330045652337848320, text=\"Tomorrow is the opening day for Iron Man 3, I still don't have a date. Looks like I will have to go see it by myself. #ohwell :)\", sentiment=5),\n",
       " Row(id=330045653944266752, text='Iron Man 3 is so fucking AWESOME!', sentiment=5),\n",
       " Row(id=330045656871870465, text='oh my fuckin god the iron man 3 soundtrack LOOK AT ALL THE GOOD BANDS', sentiment=5),\n",
       " Row(id=330045657593286656, text='RT @incucaioficial: Hoy el INCUCAI acompaña a #Magica, un corto argentino sobre donación de órganos, en el cine antes de IRON MAN 3 http://…', sentiment=5),\n",
       " Row(id=330045658562166784, text='want to watch iron man 3 again. someone take me. please.', sentiment=5),\n",
       " Row(id=330045658755117057, text='SO PUMPED FOR IRON MAN 3 !!!!!!!! 🙏🙏🙏🙏🙏🙏🙏🙏🙏🙏🙏🙏🙏', sentiment=5),\n",
       " Row(id=330045659208089601, text=\"RT @GoalsOverHoes: I'm tryna see Iron Man 3. Might just see it with my girl.\", sentiment=5),\n",
       " Row(id=330045663914115072, text='RT @sierra_agus: Iron man 3 !! @Rodrigoferioli http://t.co/0Dpq55Fszc', sentiment=5),\n",
       " Row(id=330045666183217153, text=\"Who's going to see Iron man 3 on saturday tho!??\", sentiment=5),\n",
       " Row(id=330045667420549123, text='RT @gmanMD35: Anyone wanna go see Iron Man 3 tonight?', sentiment=5),\n",
       " Row(id=330045667760300032, text='Iron man 3 tonight!', sentiment=5),\n",
       " Row(id=330045668141981696, text=\"I'm goin to see iron man 3 tonight, yuuuuh\", sentiment=5),\n",
       " Row(id=330045669001793536, text='Quiero ver Iron Man 3, 3 veces', sentiment=5),\n",
       " Row(id=330045670192975873, text='#железныйчеловек #ironman #tony #stark #hero #тони #старк http://t.co/jV3YGcuIyc', sentiment=5),\n",
       " Row(id=330045673024151552, text='im going to need to be awake for Iron Man 3 tonight.', sentiment=5),\n",
       " Row(id=330045674957725697, text='yea ik ga naar Iron-man 3-D', sentiment=5),\n",
       " Row(id=330045675523936256, text='RT @Zeenniiaaa: I wanna see Iron Man 3 so bad😁', sentiment=5),\n",
       " Row(id=330045676408934400, text='RT @GossipGun: หนังในโรงตอนนี้ \"Iron Man 3\" เปิดตัววันแรกสูงสุดตลอดกาลในไทย และ \"พี่มาก..พระโขนง\" ทำรายได้รวมสูงสุดตลอดกาลในไทย #บ้าไปแล้ว …', sentiment=5),\n",
       " Row(id=330045677231026176, text=\"I'm really excited for iron man 3 tomorrow. :))\", sentiment=5),\n",
       " Row(id=330045678464167937, text=\"I just texted my brother to see if he wanted to go see iron man 3 and told him I'll buy them.\", sentiment=5),\n",
       " Row(id=330045679089094656, text='RT @MathieuCeli: Iron Man 3 &gt;&gt;&gt;&gt;&gt;&gt;', sentiment=5),\n",
       " Row(id=330045681244979200, text='I wanna go see iron man 3 #Premier #GotTo', sentiment=5),\n",
       " Row(id=330045684747210752, text='I want to go see iron man 3 tomorrow night!!', sentiment=5),\n",
       " Row(id=330045685040807937, text='Just seen a trailer for After Earth gonna have to watch that.  Now I just hope Iron man 3 delivers 😌', sentiment=5),\n",
       " Row(id=330045683908354048, text=\"LA Times - 'Iron Man 3' crushes overseas, but can it topple 'Avengers'? http://t.co/RJ0D6v1qIw\", sentiment=5),\n",
       " Row(id=330045686118772736, text='After watching Iron Man 3 went to Nine West. Got a bag and wallet for myself for 400 AED and got a 250 AED voucher free!', sentiment=5),\n",
       " Row(id=330045686462681090, text='Sick Beard: Download Finished: Conan (2010) - 2013.05.01 - TBD ? Guests: Jon Favreau, Bo Burnham, Lukas Nelson &amp; Promise of the Real', sentiment=5),\n",
       " Row(id=330045687414804480, text='Midnite premiere of Iron Man 3. Who goin wit me? Im a cheap date, order of #1 please. COKE ZERO AND POPCORN.. lotsa butta! Lmao.', sentiment=5),\n",
       " Row(id=330045691269361664, text='@pink_pygmy_puff Spider-Man 2 was my first!:) next is iron man 2, then iron man 3 in the cinemas, then possibly batman, or the rest of..', sentiment=5),\n",
       " Row(id=330045693991460866, text='Net Iron Man 3 gekeken met @kaas_is_baas! Ziek vette film', sentiment=5),\n",
       " Row(id=330045694998089728, text='RT @Parol_Z: IRON MAN 3 about to Begin!!!! Free Drinks and Chops available. Hurry Now to Genesis Deluxe Cinemas, Lekki!!! http://t.co/n5sEM…', sentiment=5),\n",
       " Row(id=330045695560130561, text='someone take me to go see iron man 3.', sentiment=5),\n",
       " Row(id=330045697007181824, text='I enjoyed watching iron man 3. thanks mahal @bobot_benter  for treating me today.', sentiment=5),\n",
       " Row(id=330045697510477825, text=\"I unlocked the Marvel's Iron Man 3 Coming Soon sticker on #GetGlue! http://t.co/JVs8LCOUcH\", sentiment=5),\n",
       " Row(id=330045697825071104, text='Who wants to go see Tony Stark be a badass tonight?', sentiment=5),\n",
       " Row(id=330045701453148161, text='Anyone want to go to iron man 3 tonight?', sentiment=5),\n",
       " Row(id=330045701813846017, text='RT @danielito_93: Por fin Iron Man 3 con @LombarderoIrene :3', sentiment=5),\n",
       " Row(id=330045702975680512, text='Iron Man 3 tonight? Yeah sure, why not!', sentiment=5),\n",
       " Row(id=330045703281840128, text='Just bought my midnight tickets for iron man 3 #pumped', sentiment=5),\n",
       " Row(id=330045704099741699, text='Homem de Ferro 3 (Iron Man 3) HDCAM XviD: Homem de Ferro 3 da Marvel traz o industrial, arrogante, porém brilh... http://t.co/TueHO1dmR2', sentiment=5),\n",
       " Row(id=330045705123143680, text='DON CHEADLE TIME!!!! #IronManTwo', sentiment=5),\n",
       " Row(id=330045706746331136, text='TONY STARK WILL RETURN', sentiment=5),\n",
       " Row(id=330045708470190080, text='RT @Zeenniiaaa: I wanna see Iron Man 3 so bad😁', sentiment=5),\n",
       " Row(id=330045713276874752, text='Having me some Panera in between screening Iron Man 3 and work at 5, course still did some stuff off the clock', sentiment=5),\n",
       " Row(id=330045727139057665, text=\"Can't wait for Iron Man 3..\", sentiment=5),\n",
       " Row(id=330045733896060930, text='Yep\"@youngclassydude: Oh yea??%RT @CutieFuzz: #nw Iron man 3 :D\"', sentiment=5),\n",
       " Row(id=330045735313756160, text='Who wants to go see the midnight showing of Iron Man 3 tonight? Hit me up if you do.', sentiment=5),\n",
       " Row(id=330045736215531522, text='Iron man 3 6rrrrr♥!!', sentiment=5),\n",
       " Row(id=330045736110678017, text='Dice @mishmora que Tony Stark....mmmmm. Urge verlo\"!!! &lt;3&lt;3', sentiment=5),\n",
       " Row(id=330045737075343360, text='Chao al dentista a sufrir un raro, pero después al cine con mi amiga @Aleara_a para ver Iron man 3, awww q bkn al fin !', sentiment=5),\n",
       " Row(id=330045737339592705, text='RT @HuffPostTV: The #DowntonAbbey &amp; \"Iron Man 3\" connection http://t.co/FBXmFxdAPL', sentiment=5),\n",
       " Row(id=330045738853752835, text='IRON MAN 3: @pattonoswalt - \"Blew my ass apart and hillbilly-fucked it full of awesome!\" @TheAVClub - \"Meh.\"  Seems about right.', sentiment=5),\n",
       " Row(id=330045740544049153, text='Iron man 3 #tonight #whatsgood', sentiment=5),\n",
       " Row(id=330045741336768513, text=\"Can't wait to see iron man 3 tomorrow\", sentiment=5),\n",
       " Row(id=330045742276300801, text='Pretty good birthday so far(: iron man 3 in like 9 hours(;', sentiment=5),\n",
       " Row(id=330045743081611264, text='Movie: Iron man 3 #wolf #bioscopen', sentiment=5),\n",
       " Row(id=330045744507662336, text='Alguien más que aún no haya ido a ver Iron Man 3 que levanté la mano ✋', sentiment=5),\n",
       " Row(id=330045746403475457, text='@HarryEndicott @konnerdevoto also.. Iron man 3?', sentiment=5),\n",
       " Row(id=330045746634170368, text='Iron man 3 soldout yaaa', sentiment=5),\n",
       " Row(id=330045755492540416, text='Okay....Iron Man 3 actually looks good...', sentiment=5),\n",
       " Row(id=330045756302032896, text='¿Qué es lo más importante que necesitas hacer hoy? — Comprarme las zapatillas y ver iron man 3 en 3d con mi herm... http://t.co/D9xpK3YNYY', sentiment=5),\n",
       " Row(id=330045760282431488, text=\"RT @laceythecreator: Excited to see RSC's Julius Caesar with @ReignOfTaylor tonight &amp; midnight premiere of Iron Man 3 with her and @Gin…\", sentiment=5),\n",
       " Row(id=330045760286625792, text='RT @Cara_Kuiken: Ek wil Iron Man 3 kyk. So graag.', sentiment=5),\n",
       " Row(id=330045760211140611, text='Iron Man 3 tonight', sentiment=5),\n",
       " Row(id=330045761767223296, text='Tony Stark &gt;&gt;&gt;&gt;&gt;&gt;&gt;&gt;&gt;', sentiment=5),\n",
       " Row(id=330045767253381120, text='@andrearincontop Iron man 3 nena, buenisimo', sentiment=5),\n",
       " Row(id=330045768876560384, text='RT @SojiKnows: Iron Man 3 released in Japan in 4D? Fuckin hate Japan... They get DBZ movies &amp; 4D shit... We just now gettin the lil mov…', sentiment=5),\n",
       " Row(id=330045769275031553, text='RT @tavocabas: \"@TecnoMarketingN: ¿Se quieren reír? Vean esta versión de Iron Man 3, pero con menos presupuesto. http://t.co/Q5CChokp5V\" @s…', sentiment=5),\n",
       " Row(id=330045768884957184, text=':/ RT @TheAVClub: Iron Man 3 desperately aims to please, but falls short http://t.co/0ZyiksWGCJ', sentiment=5),\n",
       " Row(id=330045769749000192, text='Je suis en train de lire ça #Marvel #Comics #Avengers #CaptainAmerica #IronMan #Thor #Hulk #Widow… http://t.co/E1eWgRNkEQ', sentiment=5),\n",
       " Row(id=330045772542377985, text='Photoset: thehappysorceress: xtraneus: imnotdaredevil: Iron Man 3 poster - Paolo Rivera artist’s blog I... http://t.co/uCuHB1ue61', sentiment=5),\n",
       " Row(id=330045781547556864, text='Have 2 Iron man 3 tickets XD 3D tickets for the premiere tonight at 12 \\nLet me know if you want them', sentiment=5),\n",
       " Row(id=330045782126362624, text='IRON-MAN 3 BETTER NOT SUCK! TWO WAS TERRIBLE! #nerdrage #iwillendyou', sentiment=5),\n",
       " Row(id=330045782617116672, text='Iron man 3 premiere tonight anyone want to come to kent to join feel free.', sentiment=5),\n",
       " Row(id=330045783686656001, text='RT @the_ironsheik: What movie better Iron Man 3 or Go Fuck Yourself 2?', sentiment=5),\n",
       " Row(id=330045784118673409, text='RT @86themike: Iron Man 1 &gt; Iron Man 3 &gt; Iron Man 2', sentiment=5),\n",
       " Row(id=330045784655527938, text='Iron man 3 tho', sentiment=5),\n",
       " Row(id=330045785347592192, text='Someone tweets about Iron Man 3, everyone tweets about Iron Man 3. Someone tweets about how boring school is, everyone tweets the same thing', sentiment=5),\n",
       " Row(id=330045785918038016, text='Lol Using iron man 3 reference on nanotechnology', sentiment=5),\n",
       " Row(id=330045789411893248, text='I want a lot of people to come see iron man 3 with me.....any takers?', sentiment=5),\n",
       " Row(id=330045799960543232, text='Woo! looks like I get to see the midnight of Iron Man 3 :)', sentiment=5),\n",
       " ...]"
      ]
     },
     "execution_count": 23,
     "metadata": {},
     "output_type": "execute_result"
    }
   ],
   "source": [
    "datardd=s.rdd\n",
    "datardd.collect()"
   ]
  },
  {
   "cell_type": "markdown",
   "metadata": {},
   "source": [
    "### negativewords to rdd because we cant proform map on dataframe then flatmap the rdd rows to arraysso we can get arrays of negative and positive words"
   ]
  },
  {
   "cell_type": "code",
   "execution_count": 15,
   "metadata": {},
   "outputs": [
    {
     "data": {
      "text/plain": [
       "[Row(value='2-faced'), Row(value='2-faces')]"
      ]
     },
     "execution_count": 15,
     "metadata": {},
     "output_type": "execute_result"
    }
   ],
   "source": [
    "negativeW.select('value').take(2)"
   ]
  },
  {
   "cell_type": "code",
   "execution_count": 16,
   "metadata": {},
   "outputs": [
    {
     "data": {
      "text/plain": [
       "[Row(value='2-faced'), Row(value='2-faces')]"
      ]
     },
     "execution_count": 16,
     "metadata": {},
     "output_type": "execute_result"
    }
   ],
   "source": [
    "negativeW.select('value').rdd.take(2)"
   ]
  },
  {
   "cell_type": "code",
   "execution_count": 17,
   "metadata": {},
   "outputs": [
    {
     "data": {
      "text/plain": [
       "['2-faced', '2-faces', 'abnormal', 'abolish']"
      ]
     },
     "execution_count": 17,
     "metadata": {},
     "output_type": "execute_result"
    }
   ],
   "source": [
    "negativeW.select('value').rdd.flatMap(lambda x:x).take(4)"
   ]
  },
  {
   "cell_type": "code",
   "execution_count": 18,
   "metadata": {},
   "outputs": [],
   "source": [
    "negativeList=negativeW.select('value').rdd.flatMap(lambda x:x)"
   ]
  },
  {
   "cell_type": "code",
   "execution_count": 19,
   "metadata": {},
   "outputs": [],
   "source": [
    "positiveList=positiveW.select(\"value\").rdd.flatMap(lambda x:x)"
   ]
  },
  {
   "cell_type": "code",
   "execution_count": 20,
   "metadata": {},
   "outputs": [
    {
     "data": {
      "text/plain": [
       "[('2-faced', 1), ('2-faces', 1), ('abnormal', 1)]"
      ]
     },
     "execution_count": 20,
     "metadata": {},
     "output_type": "execute_result"
    }
   ],
   "source": [
    "negativeW.select('value').rdd.flatMap(lambda x:x).map(lambda x:(x,1)).take(3)"
   ]
  },
  {
   "cell_type": "markdown",
   "metadata": {},
   "source": [
    "### lets try to d this with out main dataframe datardd=s.rdd (s is our data id,text,sentiment)"
   ]
  },
  {
   "cell_type": "code",
   "execution_count": 22,
   "metadata": {},
   "outputs": [],
   "source": [
    "q=[\"good\", \"gold\", \"silver\"]\n",
    "z=\"hey bith gold good\""
   ]
  },
  {
   "cell_type": "code",
   "execution_count": 23,
   "metadata": {},
   "outputs": [
    {
     "data": {
      "text/plain": [
       "True"
      ]
     },
     "execution_count": 23,
     "metadata": {},
     "output_type": "execute_result"
    }
   ],
   "source": [
    "\"good\" in q"
   ]
  },
  {
   "cell_type": "markdown",
   "metadata": {},
   "source": [
    "### we split each text row into an array of words"
   ]
  },
  {
   "cell_type": "code",
   "execution_count": 24,
   "metadata": {},
   "outputs": [
    {
     "data": {
      "text/plain": [
       "[[\"'Iron\",\n",
       "  'Man',\n",
       "  \"3'\",\n",
       "  'Crushes',\n",
       "  'Opening',\n",
       "  'Day',\n",
       "  'Records',\n",
       "  'In',\n",
       "  'China:',\n",
       "  'Iron',\n",
       "  'Man',\n",
       "  '3',\n",
       "  'has',\n",
       "  'continued',\n",
       "  'its',\n",
       "  'record-breaking',\n",
       "  'run',\n",
       "  'at',\n",
       "  'the...',\n",
       "  'http://t.co/9CwF31E8Ez'],\n",
       " ['Iron', 'Man', '3', 'tonight!', 'Woo', ':)']]"
      ]
     },
     "execution_count": 24,
     "metadata": {},
     "output_type": "execute_result"
    }
   ],
   "source": [
    "textarrays=s.select(\"text\").rdd.map(lambda x: x[0].split())\n",
    "textarrays.take(2)\n"
   ]
  },
  {
   "cell_type": "markdown",
   "metadata": {},
   "source": [
    "### define de finction that counts negative/positive words in an array and score it"
   ]
  },
  {
   "cell_type": "code",
   "execution_count": 25,
   "metadata": {},
   "outputs": [],
   "source": [
    "tnls=negativeList.collect()\n",
    "tpls=positiveList.collect()\n"
   ]
  },
  {
   "cell_type": "code",
   "execution_count": 26,
   "metadata": {},
   "outputs": [],
   "source": [
    "def find(Textarray):\n",
    "    count=0\n",
    "    for j in range(len(Textarray)):\n",
    "            if Textarray[j] in tpls:\n",
    "                count=count+1\n",
    "            elif Textarray[j] in tnls:\n",
    "                count=count-1   \n",
    "    if count>0:\n",
    "        return(\"Positive Tweet\")\n",
    "    elif count<0:\n",
    "        return(\"Negative Tweet\")\n",
    "    else:\n",
    "        return(\"neutral Tweet\")\n"
   ]
  },
  {
   "cell_type": "code",
   "execution_count": 27,
   "metadata": {},
   "outputs": [
    {
     "data": {
      "text/plain": [
       "'Negative Tweet'"
      ]
     },
     "execution_count": 27,
     "metadata": {},
     "output_type": "execute_result"
    }
   ],
   "source": [
    "z=[\"'Iron\",\n",
    "  'Man',\n",
    "  \"3'\",\n",
    "  'Crushes',\n",
    "  'Opening',\n",
    "  'Day',\n",
    "  'Records',\n",
    "  'In',\n",
    "  'China:',\n",
    "  'Iron',\n",
    "  'Man',\n",
    "  '3',\n",
    "  'has',\n",
    "  'continued',\n",
    "  'its',\n",
    "  'record-breaking',\n",
    "  'run',\n",
    "  'at',\n",
    "  'the...',\n",
    "  'http://t.co/9CwF31E8Ez',\n",
    "  'abound',\n",
    "  'abort',\n",
    "  'aborted']\n",
    "#z[1].find(\"Man\")\n",
    "#\"Man\" in z[1]\n",
    "#find(z,\"Man\")\n",
    "find (z)"
   ]
  },
  {
   "cell_type": "markdown",
   "metadata": {},
   "source": []
  },
  {
   "cell_type": "markdown",
   "metadata": {},
   "source": [
    "#### here we will find how many times input x(array of words aka tweet words occur in nega words list)"
   ]
  },
  {
   "cell_type": "code",
   "execution_count": 28,
   "metadata": {},
   "outputs": [
    {
     "data": {
      "text/plain": [
       "defaultdict(int,\n",
       "            {'neutral Tweet': 1568,\n",
       "             'Positive Tweet': 289,\n",
       "             'Negative Tweet': 160})"
      ]
     },
     "execution_count": 28,
     "metadata": {},
     "output_type": "execute_result"
    }
   ],
   "source": [
    "textarrays.map(lambda x: (find(x),x)).countByKey()\n",
    "#textarrays.map(lambda x: type(x)).collect()\n",
    "#textarrays.map(lambda x: filter(lambda y:\"hina\" in y, )).take(10)\n",
    "#textarrays.map(lambda x: ((1 if find(\"China\") in x else 0),x)).take(3)"
   ]
  },
  {
   "cell_type": "code",
   "execution_count": 29,
   "metadata": {},
   "outputs": [],
   "source": [
    "#s.select(\"text\").rdd.map(lambda x:(1 if any(word in x for word in q),))"
   ]
  },
  {
   "cell_type": "markdown",
   "metadata": {},
   "source": [
    "now we can find words in a text cell , we will convert "
   ]
  },
  {
   "cell_type": "code",
   "execution_count": 30,
   "metadata": {},
   "outputs": [
    {
     "data": {
      "text/plain": [
       "defaultdict(int,\n",
       "            {'neutral Tweet': 1568,\n",
       "             'Positive Tweet': 289,\n",
       "             'Negative Tweet': 160})"
      ]
     },
     "execution_count": 30,
     "metadata": {},
     "output_type": "execute_result"
    }
   ],
   "source": [
    "textarrays.map(lambda x: (find(x),x)).countByKey()"
   ]
  },
  {
   "cell_type": "code",
   "execution_count": 31,
   "metadata": {},
   "outputs": [
    {
     "data": {
      "text/plain": [
       "StructType(List(StructField(id,LongType,true),StructField(text,StringType,true),StructField(sentiment,IntegerType,false)))"
      ]
     },
     "execution_count": 31,
     "metadata": {},
     "output_type": "execute_result"
    }
   ],
   "source": [
    "s.schema"
   ]
  },
  {
   "cell_type": "markdown",
   "metadata": {},
   "source": [
    "### here we take x row of datardd : x= id, text,sentiment , then we apply a map function to get the same output\n",
    "### but we apply find method on x[\"text\"] after spliting it (bc it was a string now its an array of words) to get the score if negative or positive"
   ]
  },
  {
   "cell_type": "code",
   "execution_count": 32,
   "metadata": {},
   "outputs": [],
   "source": [
    "newdf=datardd.map(lambda x:(find(x[\"text\"].split()),x[\"text\"],x[\"id\"]  )).toDF()"
   ]
  },
  {
   "cell_type": "markdown",
   "metadata": {},
   "source": [
    "we rename the cols after transforming rdd to df"
   ]
  },
  {
   "cell_type": "code",
   "execution_count": 33,
   "metadata": {},
   "outputs": [
    {
     "name": "stdout",
     "output_type": "stream",
     "text": [
      "+-------------+--------------------+------------------+\n",
      "|    Sentiment|           TweetText|                Id|\n",
      "+-------------+--------------------+------------------+\n",
      "|neutral Tweet|'Iron Man 3' Crus...|330043883738234880|\n",
      "|neutral Tweet|Iron Man 3 tonigh...|330043886577799169|\n",
      "+-------------+--------------------+------------------+\n",
      "only showing top 2 rows\n",
      "\n"
     ]
    }
   ],
   "source": [
    "lll=newdf.toDF(\"Sentiment\",\"TweetText\",\"Id\")\n",
    "lll.show(2)\n",
    "    "
   ]
  },
  {
   "cell_type": "markdown",
   "metadata": {},
   "source": [
    "we join on key=id our new df with the old data"
   ]
  },
  {
   "cell_type": "code",
   "execution_count": 34,
   "metadata": {},
   "outputs": [
    {
     "name": "stdout",
     "output_type": "stream",
     "text": [
      "+------------------+------------+-----------+--------------------+--------------------+--------------+---------+------------+----+------------------+-----------------------+---------------------+-------------------------+-------------------+-----------------------+----+-----+------------------+-------------+---------+----------------+--------------------+--------------------+---------+--------------------+-------------+\n",
      "|                id|contributors|coordinates|          created_at|            entities|favorite_count|favorited|filter_level| geo|            id_str|in_reply_to_screen_name|in_reply_to_status_id|in_reply_to_status_id_str|in_reply_to_user_id|in_reply_to_user_id_str|lang|place|possibly_sensitive|retweet_count|retweeted|retweeted_status|              source|                text|truncated|                user|    Sentiment|\n",
      "+------------------+------------+-----------+--------------------+--------------------+--------------+---------+------------+----+------------------+-----------------------+---------------------+-------------------------+-------------------+-----------------------+----+-----+------------------+-------------+---------+----------------+--------------------+--------------------+---------+--------------------+-------------+\n",
      "|330043883738234880|        null|       null|Thu May 02 19:39:...|[[],, [], [[bit.l...|             0|    false|      medium|null|330043883738234880|                   null|                 null|                     null|               null|                   null|  en| null|             false|            0|    false|            null|<a href=\"http://t...|'Iron Man 3' Crus...|    false|[false, Tue Aug 1...|neutral Tweet|\n",
      "|330043886577799169|        null|       null|Thu May 02 19:39:...|   [[],, [], [], []]|             0|    false|      medium|null|330043886577799169|                   null|                 null|                     null|               null|                   null|  en| null|              null|            0|    false|            null|                 web|Iron Man 3 tonigh...|    false|[false, Tue Apr 0...|neutral Tweet|\n",
      "+------------------+------------+-----------+--------------------+--------------------+--------------+---------+------------+----+------------------+-----------------------+---------------------+-------------------------+-------------------+-----------------------+----+-----+------------------+-------------+---------+----------------+--------------------+--------------------+---------+--------------------+-------------+\n",
      "only showing top 2 rows\n",
      "\n"
     ]
    }
   ],
   "source": [
    "datawithsentiment=data.join(lll,on=\"id\").drop(\"TweetText\")\n",
    "#datawithsentiment=data.join(lll,on=\"id\").drop(\"TweetText\").printSchema()\n",
    "datawithsentiment.show(2)"
   ]
  },
  {
   "cell_type": "markdown",
   "metadata": {},
   "source": [
    "sooo we have data mixed some with sentiment others without aka neutral"
   ]
  },
  {
   "cell_type": "code",
   "execution_count": 35,
   "metadata": {},
   "outputs": [
    {
     "name": "stdout",
     "output_type": "stream",
     "text": [
      "+--------------+-----+\n",
      "|     Sentiment|count|\n",
      "+--------------+-----+\n",
      "|Negative Tweet|  160|\n",
      "|Positive Tweet|  289|\n",
      "| neutral Tweet| 1568|\n",
      "+--------------+-----+\n",
      "\n"
     ]
    }
   ],
   "source": [
    "datawithsentiment.groupBy('Sentiment').count().show()     #select('Sentiment').count().show()"
   ]
  },
  {
   "cell_type": "code",
   "execution_count": 36,
   "metadata": {},
   "outputs": [
    {
     "name": "stdout",
     "output_type": "stream",
     "text": [
      "+--------------+-----+\n",
      "|     Sentiment|count|\n",
      "+--------------+-----+\n",
      "|Negative Tweet|  160|\n",
      "|Positive Tweet|  289|\n",
      "+--------------+-----+\n",
      "\n"
     ]
    }
   ],
   "source": [
    "datawithsentiment.filter((datawithsentiment.Sentiment!=\"neutral Tweet\")).groupBy('Sentiment').count().show() "
   ]
  },
  {
   "cell_type": "code",
   "execution_count": 37,
   "metadata": {},
   "outputs": [],
   "source": [
    "dfwithsentolny=datawithsentiment.filter((datawithsentiment.Sentiment!=\"neutral Tweet\"))"
   ]
  },
  {
   "cell_type": "markdown",
   "metadata": {},
   "source": [
    "## lets try to do some classification now lets use the three sentiment compleete dataframe\n"
   ]
  },
  {
   "cell_type": "markdown",
   "metadata": {},
   "source": [
    "### first lets encode the sentiment column -1 negative / 0 neutral / 1 positive"
   ]
  },
  {
   "cell_type": "code",
   "execution_count": 38,
   "metadata": {},
   "outputs": [],
   "source": [
    "from pyspark.sql.functions import col, when\n",
    "\n",
    "encodedData=datawithsentiment.withColumn(\"Sentiment\", when(col(\"Sentiment\")=='Negative Tweet', -1).when(col(\"Sentiment\")=='Positive Tweet', 1).otherwise(0))"
   ]
  },
  {
   "cell_type": "code",
   "execution_count": 39,
   "metadata": {},
   "outputs": [],
   "source": [
    "(train_set, val_set, test_set) = encodedData.randomSplit([0.5, 0.3, 0.2], seed = 2000)"
   ]
  },
  {
   "cell_type": "code",
   "execution_count": 40,
   "metadata": {},
   "outputs": [],
   "source": [
    "from pyspark.ml.feature import HashingTF, IDF, Tokenizer\n",
    "from pyspark.ml.feature import StringIndexer\n",
    "from pyspark.ml import Pipeline\n",
    "\n",
    "tokenizer = Tokenizer(inputCol=\"text\", outputCol=\"words\")\n",
    "hashtf = HashingTF(numFeatures=2**16, inputCol=\"words\", outputCol='tf')\n",
    "idf = IDF(inputCol='tf', outputCol=\"features\", minDocFreq=5) #minDocFreq: remove sparse terms\n",
    "label_stringIdx = StringIndexer(inputCol = \"Sentiment\", outputCol = \"label\")\n",
    "pipeline = Pipeline(stages=[tokenizer, hashtf, idf, label_stringIdx])\n"
   ]
  },
  {
   "cell_type": "code",
   "execution_count": 51,
   "metadata": {},
   "outputs": [
    {
     "name": "stdout",
     "output_type": "stream",
     "text": [
      "+-----+-----+\n",
      "|label|count|\n",
      "+-----+-----+\n",
      "|  0.0|  302|\n",
      "|  1.0|   63|\n",
      "|  2.0|   29|\n",
      "+-----+-----+\n",
      "\n"
     ]
    }
   ],
   "source": [
    "pipelineFit = pipeline.fit(train_set)\n",
    "train_df = pipelineFit.transform(train_set)\n",
    "val_df = pipelineFit.transform(val_set)\n",
    "test_df=pipelineFit.transform(test_set)\n",
    "#train_df.select(\"text\",\"Sentiment\",\"words\",\"tf\",\"features\",\"label\").show(10)\n",
    "test_df.groupBy('label').count().show() "
   ]
  },
  {
   "cell_type": "code",
   "execution_count": 42,
   "metadata": {},
   "outputs": [
    {
     "name": "stdout",
     "output_type": "stream",
     "text": [
      "+--------------------+---------+--------------------+--------------------+--------------------+-----+\n",
      "|                text|Sentiment|               words|                  tf|            features|label|\n",
      "+--------------------+---------+--------------------+--------------------+--------------------+-----+\n",
      "|'Iron Man 3' Crus...|        0|['iron, man, 3', ...|(65536,[2460,9960...|(65536,[2460,9960...|  0.0|\n",
      "|Iron Man 3 tonigh...|        0|[iron, man, 3, to...|(65536,[23538,249...|(65536,[23538,249...|  0.0|\n",
      "|Preciso ver Iron ...|        0|[preciso, ver, ir...|(65536,[3885,1206...|(65536,[3885,1206...|  0.0|\n",
      "+--------------------+---------+--------------------+--------------------+--------------------+-----+\n",
      "only showing top 3 rows\n",
      "\n"
     ]
    }
   ],
   "source": [
    "train_df.select(\"text\",\"Sentiment\",\"words\",\"tf\",\"features\",\"label\").show(3)"
   ]
  },
  {
   "cell_type": "code",
   "execution_count": 49,
   "metadata": {},
   "outputs": [
    {
     "data": {
      "text/plain": [
       "pyspark.ml.classification.LogisticRegressionModel"
      ]
     },
     "execution_count": 49,
     "metadata": {},
     "output_type": "execute_result"
    }
   ],
   "source": [
    "from pyspark.ml.classification import LogisticRegression\n",
    "lr = LogisticRegression(maxIter=100)\n",
    "lrModel = lr.fit(train_df)\n",
    "predictions = lrModel.transform(val_df)\n",
    "type(lrModel)"
   ]
  },
  {
   "cell_type": "code",
   "execution_count": null,
   "metadata": {},
   "outputs": [],
   "source": []
  },
  {
   "cell_type": "code",
   "execution_count": 50,
   "metadata": {},
   "outputs": [
    {
     "data": {
      "text/plain": [
       "0.6451430897016115"
      ]
     },
     "execution_count": 50,
     "metadata": {},
     "output_type": "execute_result"
    }
   ],
   "source": [
    "from pyspark.ml.evaluation import BinaryClassificationEvaluator\n",
    "evaluator = BinaryClassificationEvaluator(rawPredictionCol=\"rawPrediction\")\n",
    "evaluator.evaluate(predictions)"
   ]
  },
  {
   "cell_type": "code",
   "execution_count": 192,
   "metadata": {},
   "outputs": [
    {
     "data": {
      "text/plain": [
       "pyspark.sql.dataframe.DataFrame"
      ]
     },
     "execution_count": 192,
     "metadata": {},
     "output_type": "execute_result"
    }
   ],
   "source": [
    "type(predictions)"
   ]
  },
  {
   "cell_type": "code",
   "execution_count": null,
   "metadata": {},
   "outputs": [],
   "source": []
  },
  {
   "cell_type": "code",
   "execution_count": 45,
   "metadata": {},
   "outputs": [
    {
     "data": {
      "text/plain": [
       "0.802675585284281"
      ]
     },
     "execution_count": 45,
     "metadata": {},
     "output_type": "execute_result"
    }
   ],
   "source": [
    "#val_df.select('label','Sentiment').take(10)\n",
    "#val_df.filter(val_df.Sentiment==val_df.label).count()/float(val_set.count())\n",
    "predictions.filter(predictions.prediction==predictions.label).count()/float(predictions.count())"
   ]
  },
  {
   "cell_type": "code",
   "execution_count": null,
   "metadata": {},
   "outputs": [],
   "source": []
  },
  {
   "cell_type": "markdown",
   "metadata": {},
   "source": [
    "Here we see how the predictions are made when the validation df is transformed"
   ]
  },
  {
   "cell_type": "code",
   "execution_count": 56,
   "metadata": {},
   "outputs": [
    {
     "data": {
      "text/plain": [
       "[Row(Sentiment=0, label=0.0, rawPrediction=DenseVector([30.8011, 1.1316, -31.9327]), probability=DenseVector([1.0, 0.0, 0.0]), prediction=0.0),\n",
       " Row(Sentiment=0, label=0.0, rawPrediction=DenseVector([67.1321, -15.6295, -51.5026]), probability=DenseVector([1.0, 0.0, 0.0]), prediction=0.0),\n",
       " Row(Sentiment=0, label=0.0, rawPrediction=DenseVector([43.346, -36.6131, -6.7329]), probability=DenseVector([1.0, 0.0, 0.0]), prediction=0.0),\n",
       " Row(Sentiment=0, label=0.0, rawPrediction=DenseVector([-5.156, -17.7639, 22.9199]), probability=DenseVector([0.0, 0.0, 1.0]), prediction=2.0),\n",
       " Row(Sentiment=0, label=0.0, rawPrediction=DenseVector([30.8011, 1.1316, -31.9327]), probability=DenseVector([1.0, 0.0, 0.0]), prediction=0.0),\n",
       " Row(Sentiment=0, label=0.0, rawPrediction=DenseVector([30.8011, 1.1316, -31.9327]), probability=DenseVector([1.0, 0.0, 0.0]), prediction=0.0),\n",
       " Row(Sentiment=0, label=0.0, rawPrediction=DenseVector([44.0976, -61.1138, 17.0162]), probability=DenseVector([1.0, 0.0, 0.0]), prediction=0.0),\n",
       " Row(Sentiment=0, label=0.0, rawPrediction=DenseVector([55.5604, -33.6915, -21.8689]), probability=DenseVector([1.0, 0.0, 0.0]), prediction=0.0),\n",
       " Row(Sentiment=0, label=0.0, rawPrediction=DenseVector([30.8011, 1.1316, -31.9327]), probability=DenseVector([1.0, 0.0, 0.0]), prediction=0.0),\n",
       " Row(Sentiment=0, label=0.0, rawPrediction=DenseVector([12.9107, -23.2731, 10.3624]), probability=DenseVector([0.9275, 0.0, 0.0725]), prediction=0.0)]"
      ]
     },
     "execution_count": 56,
     "metadata": {},
     "output_type": "execute_result"
    }
   ],
   "source": [
    "predictions.select(\"Sentiment\",\"label\",\"rawPrediction\",\"probability\",\"prediction\").take(10)"
   ]
  },
  {
   "cell_type": "markdown",
   "metadata": {},
   "source": [
    "### lets evaluate our test data"
   ]
  },
  {
   "cell_type": "markdown",
   "metadata": {},
   "source": [
    "### we take randomly a row of our test dataset then we tranform it and evaluate it (we can choose the sample size)"
   ]
  },
  {
   "cell_type": "code",
   "execution_count": 158,
   "metadata": {},
   "outputs": [],
   "source": [
    "from pyspark.sql.functions import rand\n",
    "testingSample=test_df.select(\"*\").orderBy(rand())\n",
    "testsamplesized=testingSample.drop(\"label\").limit(100)\n",
    "testsamplesizedwithlabel=testingSample.limit(100)"
   ]
  },
  {
   "cell_type": "code",
   "execution_count": 123,
   "metadata": {},
   "outputs": [],
   "source": [
    "#test_df.createOrReplaceTempView(\"test_df\")\n",
    "#query=spark.sql(\"SELECT * FROM test_df ORDERBY RAND() LIMIT 1 \")"
   ]
  },
  {
   "cell_type": "markdown",
   "metadata": {},
   "source": [
    "### we will predict the one without labels"
   ]
  },
  {
   "cell_type": "code",
   "execution_count": 159,
   "metadata": {},
   "outputs": [],
   "source": [
    "predictSample=lrModel.transform(testsamplesized)"
   ]
  },
  {
   "cell_type": "markdown",
   "metadata": {},
   "source": [
    "binaryclassifEvaluator not gonna use it"
   ]
  },
  {
   "cell_type": "code",
   "execution_count": 156,
   "metadata": {},
   "outputs": [],
   "source": [
    "#from pyspark.ml.evaluation import BinaryClassificationEvaluator\n",
    "#evaluator = BinaryClassificationEvaluator(rawPredictionCol=\"rawPrediction\")\n",
    "#evaluator.evaluate(predictSample)\n"
   ]
  },
  {
   "cell_type": "markdown",
   "metadata": {},
   "source": [
    "my eveluator (number of correct preds / total )"
   ]
  },
  {
   "cell_type": "code",
   "execution_count": 160,
   "metadata": {},
   "outputs": [
    {
     "data": {
      "text/plain": [
       "0.78"
      ]
     },
     "execution_count": 160,
     "metadata": {},
     "output_type": "execute_result"
    }
   ],
   "source": [
    "predictSample.filter(predictSample.prediction==testsamplesizedwithlabel.label).count()/float(predictSample.count())"
   ]
  },
  {
   "cell_type": "code",
   "execution_count": 162,
   "metadata": {},
   "outputs": [
    {
     "data": {
      "text/plain": [
       "[Row(Sentiment=0, prediction=0.0, rawPrediction=DenseVector([6.1398, 0.8288, -6.9686]), probability=DenseVector([0.9951, 0.0049, 0.0])),\n",
       " Row(Sentiment=1, prediction=1.0, rawPrediction=DenseVector([-69.0674, 39.2189, 29.8485]), probability=DenseVector([0.0, 0.9999, 0.0001])),\n",
       " Row(Sentiment=1, prediction=1.0, rawPrediction=DenseVector([16.5213, 45.3412, -61.8625]), probability=DenseVector([0.0, 1.0, 0.0])),\n",
       " Row(Sentiment=0, prediction=1.0, rawPrediction=DenseVector([14.4244, 16.5408, -30.9652]), probability=DenseVector([0.1075, 0.8925, 0.0])),\n",
       " Row(Sentiment=0, prediction=0.0, rawPrediction=DenseVector([19.928, -1.6947, -18.2332]), probability=DenseVector([1.0, 0.0, 0.0]))]"
      ]
     },
     "execution_count": 162,
     "metadata": {},
     "output_type": "execute_result"
    }
   ],
   "source": [
    "predictSample.select(\"Sentiment\",\"prediction\",\"rawPrediction\",\"probability\").take(5)"
   ]
  },
  {
   "cell_type": "markdown",
   "metadata": {},
   "source": [
    "\n",
    "\n"
   ]
  },
  {
   "cell_type": "code",
   "execution_count": null,
   "metadata": {},
   "outputs": [],
   "source": []
  }
 ],
 "metadata": {
  "kernelspec": {
   "display_name": "Python 3",
   "language": "python",
   "name": "python3"
  },
  "language_info": {
   "codemirror_mode": {
    "name": "ipython",
    "version": 3
   },
   "file_extension": ".py",
   "mimetype": "text/x-python",
   "name": "python",
   "nbconvert_exporter": "python",
   "pygments_lexer": "ipython3",
   "version": "3.7.3"
  }
 },
 "nbformat": 4,
 "nbformat_minor": 4
}
